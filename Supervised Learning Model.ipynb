{
 "cells": [
  {
   "cell_type": "markdown",
   "metadata": {},
   "source": [
    "## Part 2: Supervised Learning Model\n",
    "\n",
    "Now that you've found which parts of the population are more likely to be customers of the mail-order company, it's time to build a prediction model. Each of the rows in the \"MAILOUT\" data files represents an individual that was targeted for a mailout campaign. Ideally, we should be able to use the demographic information from each individual to decide whether or not it will be worth it to include that person in the campaign.\n",
    "\n",
    "The \"MAILOUT\" data has been split into two approximately equal parts, each with almost 43 000 data rows. In this part, you can verify your model with the \"TRAIN\" partition, which includes a column, \"RESPONSE\", that states whether or not a person became a customer of the company following the campaign. In the next part, you'll need to create predictions on the \"TEST\" partition, where the \"RESPONSE\" column has been withheld."
   ]
  },
  {
   "cell_type": "code",
   "execution_count": 94,
   "metadata": {},
   "outputs": [],
   "source": [
    "# import libraries here; add more as necessary\n",
    "import numpy as np\n",
    "import pandas as pd\n",
    "import matplotlib.pyplot as plt\n",
    "#plt.style.use('ggplot')\n",
    "import seaborn as sns"
   ]
  },
  {
   "cell_type": "code",
   "execution_count": 95,
   "metadata": {},
   "outputs": [
    {
     "name": "stderr",
     "output_type": "stream",
     "text": [
      "C:\\Users\\david\\Anaconda3\\lib\\site-packages\\IPython\\core\\interactiveshell.py:3146: DtypeWarning: Columns (19,20) have mixed types.Specify dtype option on import or set low_memory=False.\n",
      "  interactivity=interactivity, compiler=compiler, result=result)\n"
     ]
    }
   ],
   "source": [
    "# Load the train and test data.\n",
    "mailout_train = pd.read_csv('./Udacity_MAILOUT_052018_TRAIN.csv')\n",
    "mailout_test = pd.read_csv('./Udacity_MAILOUT_052018_TEST.csv')\n",
    "\n",
    "# Load the attributes dataset.\n",
    "dias_attributes = pd.read_excel('./DIAS Attributes - Values 2017.xlsx')"
   ]
  },
  {
   "cell_type": "code",
   "execution_count": 96,
   "metadata": {},
   "outputs": [
    {
     "data": {
      "text/plain": [
       "(42962, 368)"
      ]
     },
     "execution_count": 96,
     "metadata": {},
     "output_type": "execute_result"
    }
   ],
   "source": [
    "mailout_train.shape"
   ]
  },
  {
   "cell_type": "code",
   "execution_count": 97,
   "metadata": {},
   "outputs": [
    {
     "data": {
      "text/plain": [
       "(42833, 367)"
      ]
     },
     "execution_count": 97,
     "metadata": {},
     "output_type": "execute_result"
    }
   ],
   "source": [
    "mailout_test.shape"
   ]
  },
  {
   "cell_type": "code",
   "execution_count": 98,
   "metadata": {},
   "outputs": [],
   "source": [
    "mail_response = mailout_train.RESPONSE.value_counts(dropna = False)\n",
    "df_resp = pd.DataFrame({'RESPONSE':mail_response.index, 'percentage of data': mail_response.values})\n",
    "df_resp['percentage of data'] = 100 * df_resp['percentage of data']/mailout_train.shape[0]"
   ]
  },
  {
   "cell_type": "code",
   "execution_count": 99,
   "metadata": {},
   "outputs": [
    {
     "data": {
      "text/plain": [
       "0    42430\n",
       "1      532\n",
       "Name: RESPONSE, dtype: int64"
      ]
     },
     "execution_count": 99,
     "metadata": {},
     "output_type": "execute_result"
    }
   ],
   "source": [
    "mail_response"
   ]
  },
  {
   "cell_type": "code",
   "execution_count": 100,
   "metadata": {},
   "outputs": [
    {
     "data": {
      "text/html": [
       "<div>\n",
       "<style scoped>\n",
       "    .dataframe tbody tr th:only-of-type {\n",
       "        vertical-align: middle;\n",
       "    }\n",
       "\n",
       "    .dataframe tbody tr th {\n",
       "        vertical-align: top;\n",
       "    }\n",
       "\n",
       "    .dataframe thead th {\n",
       "        text-align: right;\n",
       "    }\n",
       "</style>\n",
       "<table border=\"1\" class=\"dataframe\">\n",
       "  <thead>\n",
       "    <tr style=\"text-align: right;\">\n",
       "      <th></th>\n",
       "      <th>RESPONSE</th>\n",
       "      <th>percentage of data</th>\n",
       "    </tr>\n",
       "  </thead>\n",
       "  <tbody>\n",
       "    <tr>\n",
       "      <th>0</th>\n",
       "      <td>0</td>\n",
       "      <td>98.761696</td>\n",
       "    </tr>\n",
       "    <tr>\n",
       "      <th>1</th>\n",
       "      <td>1</td>\n",
       "      <td>1.238304</td>\n",
       "    </tr>\n",
       "  </tbody>\n",
       "</table>\n",
       "</div>"
      ],
      "text/plain": [
       "   RESPONSE  percentage of data\n",
       "0         0           98.761696\n",
       "1         1            1.238304"
      ]
     },
     "execution_count": 100,
     "metadata": {},
     "output_type": "execute_result"
    }
   ],
   "source": [
    "df_resp"
   ]
  },
  {
   "cell_type": "markdown",
   "metadata": {},
   "source": [
    "#### **Discusion:**\n",
    "**`98.76%` of the people who were contacted through the mailout did not become customers.  This dataset is very imbalanced.**\n",
    "\n",
    "**The difference between the training and the test dataframes are the RESPONSE and Unnamed columns.**"
   ]
  },
  {
   "cell_type": "code",
   "execution_count": 8,
   "metadata": {},
   "outputs": [],
   "source": [
    "def content_fix(df, column):\n",
    "    '''\n",
    "    This function corrects the characters used in the CAMEO columns, which raised\n",
    "    the erros when we load the population and customer datasets.\n",
    "    '''\n",
    "    columns = column\n",
    "    \n",
    "    # Replace and reformat the columns to float.\n",
    "    df[columns] = df[columns].replace({'X': np.nan, \n",
    "                                       'XX': np.nan, \n",
    "                                       ' ': np.nan, \n",
    "                                       '': np.nan})\n",
    "    if (column == 'CAMEO_DEUG_2015') or (column == 'CAMEO_INTL_2015'):\n",
    "        df[columns] = df[columns].astype('float')\n",
    "    \n",
    "    return df"
   ]
  },
  {
   "cell_type": "code",
   "execution_count": 9,
   "metadata": {},
   "outputs": [],
   "source": [
    "def dias_attributes_fix(attributes):\n",
    "    '''\n",
    "    Function reformats dias_attributes so that if is usable.\n",
    "    Drops Unnamed: 0 columns, and moves the column names from\n",
    "    the first row, forward fills the null values and generates\n",
    "    a cols_to_keep \n",
    "    '''\n",
    "    # Formating dais_attributes dataframe.\n",
    "    attributes.drop(columns = 'Unnamed: 0', inplace = True)\n",
    "    attributes.drop(index = 0, axis = 0, inplace = True)\n",
    "    attributes.columns = ['Attribute',\t'Description', 'Value', 'Meaning']\n",
    "    attributes.reset_index(drop = True, inplace = True)\n",
    "    \n",
    "    # Lets fill the nan values with the previous values.\n",
    "    attributes.fillna(method = 'ffill', inplace = True)\n",
    "\n",
    "    cols_to_keep = attributes['Attribute'].unique().tolist()\n",
    "    \n",
    "    print('Dias_attributes has been transformed.')\n",
    "    \n",
    "    return attributes, cols_to_keep"
   ]
  },
  {
   "cell_type": "code",
   "execution_count": 10,
   "metadata": {},
   "outputs": [
    {
     "name": "stdout",
     "output_type": "stream",
     "text": [
      "Dias_attributes has been transformed.\n"
     ]
    }
   ],
   "source": [
    "attributes_df, cols_to_keep = dias_attributes_fix(dias_attributes)"
   ]
  },
  {
   "cell_type": "code",
   "execution_count": 11,
   "metadata": {},
   "outputs": [],
   "source": [
    "def unknowns_df(attributes):\n",
    "    '''\n",
    "    This function formats the dais_attributes data and gives the unknown values\n",
    "    in the data have been assigned.\n",
    "    '''\n",
    "    # drop the numerical values columns from attributes we wnat to keep them.\n",
    "    #attributes = attributes.set_index('Attribute')\n",
    "    #attributes = attributes.drop(['ANZ_HAUSHALTE_AKTIV',\n",
    "    #                            'ANZ_HH_TITEL', \n",
    "    #                            'ANZ_PERSONEN', \n",
    "    #                            'ANZ_TITEL',\n",
    "    #                            'GEBURTSJAHR',\n",
    "    #                            'KBA13_ANZAHL_PKW',\n",
    "    #                            'MIN_GEBAEUDEJAHR'], \n",
    "    #                          axis=0)\n",
    "    \n",
    "    #uk_attributes = attributes.reset_index()\n",
    "    # which meaning might indicate unknowns.\n",
    "    unknown = attributes[attributes['Meaning'].str.contains('unknown')]\n",
    "    \n",
    "    # Fix the cells with two values.\n",
    "    unknown['Value'] = unknown['Value'].astype(str)\n",
    "    unknown_2 = unknown['Value'].str.split(',').apply(pd.Series)\n",
    "    unknown_2.index = unknown.set_index(['Attribute', 'Description', 'Meaning']).index\n",
    "    unknown_2 = unknown_2.stack().reset_index(['Attribute', 'Description', 'Meaning'])\n",
    "    unknown_2 = unknown_2.reset_index()\n",
    "    unknown_2.drop(columns = 'index', inplace = True)\n",
    "    unknown_2.rename(columns = {0: 'Value'}, inplace = True)\n",
    "    \n",
    "    # Convert the values into interger values.\n",
    "    unknown_2['Value'] = unknown_2['Value'].astype('int64')\n",
    "    \n",
    "    return unknown_2"
   ]
  },
  {
   "cell_type": "code",
   "execution_count": 12,
   "metadata": {},
   "outputs": [
    {
     "name": "stderr",
     "output_type": "stream",
     "text": [
      "C:\\Users\\david\\Anaconda3\\lib\\site-packages\\ipykernel_launcher.py:22: SettingWithCopyWarning: \n",
      "A value is trying to be set on a copy of a slice from a DataFrame.\n",
      "Try using .loc[row_indexer,col_indexer] = value instead\n",
      "\n",
      "See the caveats in the documentation: https://pandas.pydata.org/pandas-docs/stable/user_guide/indexing.html#returning-a-view-versus-a-copy\n"
     ]
    }
   ],
   "source": [
    "unknown_values_df = unknowns_df(attributes_df)"
   ]
  },
  {
   "cell_type": "code",
   "execution_count": 13,
   "metadata": {},
   "outputs": [
    {
     "data": {
      "text/plain": [
       "-1    230\n",
       " 9     75\n",
       " 0     19\n",
       "Name: Value, dtype: int64"
      ]
     },
     "execution_count": 13,
     "metadata": {},
     "output_type": "execute_result"
    }
   ],
   "source": [
    "unknown_values_df['Value'].value_counts()"
   ]
  },
  {
   "cell_type": "code",
   "execution_count": 14,
   "metadata": {},
   "outputs": [],
   "source": [
    "def cleaning(df, unknown_values_df, cols_to_keep, train = 'train'):\n",
    "    '''\n",
    "    This function converts the unknown values in the dataframe to null values,\n",
    "    drops rows that have more than 50% missing data and drop columns we have no\n",
    "    definitions for in attributes.\n",
    "    '''\n",
    "    # Drop the Unnamed:0 column in the data\n",
    "    if 'Unnamed: 0' in df.columns:\n",
    "        df.drop(columns = 'Unnamed: 0', inplace = True)\n",
    "    \n",
    "    iden = df.pop('LNR')\n",
    "    # Fix the CAMEO_DEU_2015 missing values recorded as 'X' or 'XX'.\n",
    "    df = content_fix(df, column = 'CAMEO_DEUG_2015')\n",
    "    df = content_fix(df, column = 'CAMEO_DEU_2015')\n",
    "\n",
    "    # Takes the unknown values recorded in Meaning and change them in df for null.\n",
    "    print('-------------------------------------------------------------')\n",
    "    print('----- Converting unknown values to null in training df. -----')\n",
    "    print('-------------------------------------------------------------')\n",
    "    #---------------------------------------------------------------------------------------\n",
    "    for index in unknown_values_df.iterrows():\n",
    "        missing_values = int(index[1]['Value'])\n",
    "        attrib = index[1]['Attribute']\n",
    "        \n",
    "        if attrib not in df.columns:\n",
    "            continue\n",
    "        \n",
    "        if isinstance(missing_values, int):\n",
    "            df[attrib].replace(missing_values, np.nan, inplace=True)\n",
    "        elif isinstance(missing_values, str):\n",
    "            eval(\"df[dias_attributes].replace([\"+missing_values+\"], np.nan, inplace=True)\")\n",
    "    \n",
    "    print('-------------------------------------------------------------')\n",
    "    print('-------------- Conversion of data complete. -----------------')\n",
    "    print('-------------------------------------------------------------')\n",
    "    \n",
    "    if train == 'train':\n",
    "        # Assess how many missing values per row then remove those over 50%.\n",
    "        row_nulls = df.isnull().sum(axis = 1)\n",
    "        cols_len = df.shape[1]\n",
    "        df = df.loc[row_nulls[row_nulls <= 0.5 * cols_len].index]\n",
    "        df.reset_index(drop = True, inplace = True)\n",
    "        \n",
    "        \n",
    "        # Split the features and lebels\n",
    "        train_response = df['RESPONSE']\n",
    "        features = df.drop('RESPONSE', axis = 1)\n",
    "        \n",
    "        features = features.filter(cols_to_keep)\n",
    "        \n",
    "        print('-------------------------------------------------------------')\n",
    "        print('----------  features and train_response ready. --------------')\n",
    "        print('-------------------------------------------------------------')\n",
    "        \n",
    "        return features, train_response, iden\n",
    "    elif train == 'customers':\n",
    "        # For the customer data take the customer specific columns.\n",
    "        cust_response = df[['CUSTOMER_GROUP', 'ONLINE_PURCHASE', 'PRODUCT_GROUP']]\n",
    "        features = df.drop(['CUSTOMER_GROUP', 'ONLINE_PURCHASE', 'PRODUCT_GROUP'], \n",
    "                           axis = 1)\n",
    "        features = features.filter(cols_to_keep)\n",
    "        \n",
    "        print('-------------------------------------------------------------')\n",
    "        print('-------------  customer features and type ready -------------')\n",
    "        print('-------------------------------------------------------------')\n",
    "        \n",
    "        return features, cust_response, iden\n",
    "        \n",
    "    else:\n",
    "        # Drop columns not in attributes.\n",
    "        features = df.filter(cols_to_keep)\n",
    "        \n",
    "        print('-------------------------------------------------------------')\n",
    "        print('-------------------  features ready -------------------------')\n",
    "        print('-------------------------------------------------------------')\n",
    "        \n",
    "        return features, iden"
   ]
  },
  {
   "cell_type": "code",
   "execution_count": 15,
   "metadata": {},
   "outputs": [
    {
     "name": "stdout",
     "output_type": "stream",
     "text": [
      "-------------------------------------------------------------\n",
      "----- Converting unknown values to null in training df. -----\n",
      "-------------------------------------------------------------\n",
      "-------------------------------------------------------------\n",
      "-------------- Conversion of data complete. -----------------\n",
      "-------------------------------------------------------------\n",
      "-------------------------------------------------------------\n",
      "----------  features and train_response ready. --------------\n",
      "-------------------------------------------------------------\n"
     ]
    }
   ],
   "source": [
    "train_features, train_response, train_lrn  = cleaning(mailout_train, \n",
    "                             unknown_values_df, \n",
    "                             cols_to_keep, \n",
    "                             train = 'train')"
   ]
  },
  {
   "cell_type": "code",
   "execution_count": 16,
   "metadata": {},
   "outputs": [
    {
     "data": {
      "image/png": "[encoded data removed]",
      "text/plain": [
       "<Figure size 1440x720 with 1 Axes>"
      ]
     },
     "metadata": {
      "needs_background": "light"
     },
     "output_type": "display_data"
    }
   ],
   "source": [
    "# Missining values in pop_features.\n",
    "train_features.isnull().sum().plot(kind='hist', bins = 80, figsize = (20,10));\n",
    "plt.title('Rough idea of the level of missing information in the train data.')\n",
    "plt.xlabel('number of missing values')\n",
    "plt.grid()"
   ]
  },
  {
   "cell_type": "markdown",
   "metadata": {},
   "source": [
    "There are fewer columns that have a large number of missing values but to know more we should dig a little more.  First lets look at how much data is missing from the test data."
   ]
  },
  {
   "cell_type": "code",
   "execution_count": 17,
   "metadata": {},
   "outputs": [
    {
     "name": "stdout",
     "output_type": "stream",
     "text": [
      "-------------------------------------------------------------\n",
      "----- Converting unknown values to null in training df. -----\n",
      "-------------------------------------------------------------\n",
      "-------------------------------------------------------------\n",
      "-------------- Conversion of data complete. -----------------\n",
      "-------------------------------------------------------------\n",
      "-------------------------------------------------------------\n",
      "-------------------  features ready -------------------------\n",
      "-------------------------------------------------------------\n"
     ]
    }
   ],
   "source": [
    "test_features, test_lrn  = cleaning(mailout_test, \n",
    "                             unknown_values_df, \n",
    "                             cols_to_keep, \n",
    "                             train = 'test')"
   ]
  },
  {
   "cell_type": "code",
   "execution_count": 18,
   "metadata": {},
   "outputs": [
    {
     "data": {
      "image/png": "[encoded data removed]",
      "text/plain": [
       "<Figure size 1440x720 with 1 Axes>"
      ]
     },
     "metadata": {
      "needs_background": "light"
     },
     "output_type": "display_data"
    }
   ],
   "source": [
    "# Missining values in pop_features.\n",
    "test_features.isnull().sum().plot(kind='hist', bins = 80, figsize = (20,10));\n",
    "plt.title('Rough idea of the level of missing information in the test data.')\n",
    "plt.xlabel('number of missing values')\n",
    "plt.grid()"
   ]
  },
  {
   "cell_type": "markdown",
   "metadata": {},
   "source": [
    "It appears at fist glace that there is more missing data in the test dataset that in the training dataset."
   ]
  },
  {
   "cell_type": "code",
   "execution_count": 19,
   "metadata": {},
   "outputs": [
    {
     "data": {
      "text/html": [
       "<div>\n",
       "<style scoped>\n",
       "    .dataframe tbody tr th:only-of-type {\n",
       "        vertical-align: middle;\n",
       "    }\n",
       "\n",
       "    .dataframe tbody tr th {\n",
       "        vertical-align: top;\n",
       "    }\n",
       "\n",
       "    .dataframe thead th {\n",
       "        text-align: right;\n",
       "    }\n",
       "</style>\n",
       "<table border=\"1\" class=\"dataframe\">\n",
       "  <thead>\n",
       "    <tr style=\"text-align: right;\">\n",
       "      <th></th>\n",
       "      <th>Attribute</th>\n",
       "      <th>% missing</th>\n",
       "    </tr>\n",
       "  </thead>\n",
       "  <tbody>\n",
       "    <tr>\n",
       "      <th>0</th>\n",
       "      <td>AGER_TYP</td>\n",
       "      <td>30.506639</td>\n",
       "    </tr>\n",
       "    <tr>\n",
       "      <th>1</th>\n",
       "      <td>KBA05_BAUMAX</td>\n",
       "      <td>43.070040</td>\n",
       "    </tr>\n",
       "    <tr>\n",
       "      <th>2</th>\n",
       "      <td>TITEL_KZ</td>\n",
       "      <td>99.407306</td>\n",
       "    </tr>\n",
       "  </tbody>\n",
       "</table>\n",
       "</div>"
      ],
      "text/plain": [
       "      Attribute  % missing\n",
       "0      AGER_TYP  30.506639\n",
       "1  KBA05_BAUMAX  43.070040\n",
       "2      TITEL_KZ  99.407306"
      ]
     },
     "execution_count": 19,
     "metadata": {},
     "output_type": "execute_result"
    }
   ],
   "source": [
    "train_missing_over30p = train_features.isnull().mean()[train_features.isnull().mean() > 0.3] * 100\n",
    "train_missing_over30p.reset_index().rename({'index': 'Attribute', 0: '% missing'}, axis = 1)"
   ]
  },
  {
   "cell_type": "code",
   "execution_count": 20,
   "metadata": {},
   "outputs": [
    {
     "data": {
      "text/html": [
       "<div>\n",
       "<style scoped>\n",
       "    .dataframe tbody tr th:only-of-type {\n",
       "        vertical-align: middle;\n",
       "    }\n",
       "\n",
       "    .dataframe tbody tr th {\n",
       "        vertical-align: top;\n",
       "    }\n",
       "\n",
       "    .dataframe thead th {\n",
       "        text-align: right;\n",
       "    }\n",
       "</style>\n",
       "<table border=\"1\" class=\"dataframe\">\n",
       "  <thead>\n",
       "    <tr style=\"text-align: right;\">\n",
       "      <th></th>\n",
       "      <th>Attribute</th>\n",
       "      <th>% missing</th>\n",
       "    </tr>\n",
       "  </thead>\n",
       "  <tbody>\n",
       "    <tr>\n",
       "      <th>0</th>\n",
       "      <td>AGER_TYP</td>\n",
       "      <td>42.016669</td>\n",
       "    </tr>\n",
       "    <tr>\n",
       "      <th>1</th>\n",
       "      <td>ALTER_HH</td>\n",
       "      <td>30.889735</td>\n",
       "    </tr>\n",
       "    <tr>\n",
       "      <th>2</th>\n",
       "      <td>KBA05_BAUMAX</td>\n",
       "      <td>53.286018</td>\n",
       "    </tr>\n",
       "    <tr>\n",
       "      <th>3</th>\n",
       "      <td>TITEL_KZ</td>\n",
       "      <td>99.425676</td>\n",
       "    </tr>\n",
       "  </tbody>\n",
       "</table>\n",
       "</div>"
      ],
      "text/plain": [
       "      Attribute  % missing\n",
       "0      AGER_TYP  42.016669\n",
       "1      ALTER_HH  30.889735\n",
       "2  KBA05_BAUMAX  53.286018\n",
       "3      TITEL_KZ  99.425676"
      ]
     },
     "execution_count": 20,
     "metadata": {},
     "output_type": "execute_result"
    }
   ],
   "source": [
    "test_missing_over30p = test_features.isnull().mean()[test_features.isnull().mean() > 0.3] * 100\n",
    "test_missing_over30p.reset_index().rename({'index': 'Attribute', 0: '% missing'}, axis = 1)"
   ]
  },
  {
   "cell_type": "markdown",
   "metadata": {},
   "source": [
    "Let's drop these 4 coulumns from both datasets."
   ]
  },
  {
   "cell_type": "code",
   "execution_count": 21,
   "metadata": {},
   "outputs": [],
   "source": [
    "# Dropping these 4 columns.\n",
    "train_features.drop(['AGER_TYP', 'ALTER_HH', 'KBA05_BAUMAX', 'TITEL_KZ'], axis = 1, inplace=True)\n",
    "test_features.drop(['AGER_TYP', 'ALTER_HH', 'KBA05_BAUMAX', 'TITEL_KZ'], axis = 1, inplace=True)"
   ]
  },
  {
   "cell_type": "code",
   "execution_count": 22,
   "metadata": {},
   "outputs": [
    {
     "name": "stdout",
     "output_type": "stream",
     "text": [
      "Training data shape:  (35094, 268)\n",
      "Test data shape:  (42833, 268)\n"
     ]
    }
   ],
   "source": [
    "print('Training data shape: ', train_features.shape)\n",
    "print('Test data shape: ', test_features.shape)"
   ]
  },
  {
   "cell_type": "code",
   "execution_count": 23,
   "metadata": {},
   "outputs": [],
   "source": [
    "# Best columns to keep from best_cols using SelectKBest method.\n",
    "\n",
    "#best_cols = ['ALTERSKATEGORIE_GROB', 'ANREDE_KZ', 'ANZ_HAUSHALTE_AKTIV', 'ANZ_HH_TITEL', 'ANZ_TITEL',\n",
    "#             'CAMEO_DEUG_2015', 'CJT_GESAMTTYP', 'D19_BANKEN_ANZ_12', 'D19_BANKEN_ANZ_24', 'D19_BANKEN_DATUM',\n",
    "#             'D19_BANKEN_OFFLINE_DATUM', 'D19_BANKEN_ONLINE_DATUM', 'D19_BANKEN_ONLINE_QUOTE_12', 'D19_GESAMT_ANZ_12',\n",
    "#             'D19_GESAMT_ANZ_24', 'D19_GESAMT_DATUM', 'D19_GESAMT_OFFLINE_DATUM', 'D19_GESAMT_ONLINE_DATUM',\n",
    "#             'D19_GESAMT_ONLINE_QUOTE_12', 'D19_KONSUMTYP', 'D19_TELKO_ANZ_12', 'D19_TELKO_ANZ_24', 'D19_TELKO_DATUM',\n",
    "#             'D19_TELKO_OFFLINE_DATUM', 'D19_TELKO_ONLINE_DATUM', 'D19_VERSAND_ANZ_12', 'D19_VERSAND_ANZ_24', 'D19_VERSAND_DATUM',\n",
    "#             'D19_VERSAND_OFFLINE_DATUM', 'D19_VERSAND_ONLINE_DATUM', 'D19_VERSAND_ONLINE_QUOTE_12', 'D19_VERSI_ANZ_12',\n",
    "#             'D19_VERSI_ANZ_24', 'EWDICHTE', 'FINANZTYP', 'FINANZ_ANLEGER', 'FINANZ_MINIMALIST', 'FINANZ_SPARER',\n",
    "#             'FINANZ_UNAUFFAELLIGER', 'FINANZ_VORSORGER', 'GEBAEUDETYP', 'GEBAEUDETYP_RASTER', 'GEBURTSJAHR',\n",
    "#             'GFK_URLAUBERTYP', 'GREEN_AVANTGARDE', 'HH_EINKOMMEN_SCORE', 'KBA05_ALTER4', 'KBA05_ANTG2', 'KBA05_ANTG4',\n",
    "#             'KBA05_CCM3', 'KBA05_CCM4', 'KBA05_DIESEL', 'KBA05_FRAU', 'KBA05_HERST1', 'KBA05_HERST2', 'KBA05_KRSAQUOT',\n",
    "#             'KBA05_KRSHERST1', 'KBA05_KRSHERST2', 'KBA05_KRSZUL', 'KBA05_KW2', 'KBA05_KW3', 'KBA05_MAXAH', 'KBA05_MAXBJ',\n",
    "#             'KBA05_MAXSEG', 'KBA05_MOD1', 'KBA05_MOD3', 'KBA05_MOD8', 'KBA05_MOTOR', 'KBA05_SEG10', 'KBA05_SEG4', 'KBA05_SEG5',\n",
    "#             'KBA05_SEG6', 'KBA05_SEG7', 'KBA05_SEG8', 'KBA05_VORB0', 'KBA05_ZUL1', 'KBA05_ZUL2', 'KBA05_ZUL4',\n",
    "#             'KBA13_ALTERHALTER_45', 'KBA13_ALTERHALTER_61', 'KBA13_ANZAHL_PKW', 'KBA13_AUDI', 'KBA13_BMW', 'KBA13_CCM_1500',\n",
    "#             'KBA13_CCM_2000', 'KBA13_CCM_2500', 'KBA13_CCM_2501', 'KBA13_CCM_3000', 'KBA13_CCM_3001', 'KBA13_FIAT',\n",
    "#             'KBA13_HALTER_40', 'KBA13_HALTER_45', 'KBA13_HALTER_55', 'KBA13_HALTER_65', 'KBA13_HALTER_66',\n",
    "#             'KBA13_HERST_AUDI_VW', 'KBA13_HERST_BMW_BENZ', 'KBA13_HERST_EUROPA', 'KBA13_HERST_FORD_OPEL', 'KBA13_KMH_140',\n",
    "#             'KBA13_KMH_211', 'KBA13_KMH_250', 'KBA13_KMH_251', 'KBA13_KRSHERST_AUDI_VW', 'KBA13_KRSHERST_BMW_BENZ',\n",
    "#             'KBA13_KRSZUL_NEU', 'KBA13_KW_121', 'KBA13_MERCEDES', 'KBA13_MOTOR', 'KBA13_OPEL', 'KBA13_PEUGEOT',\n",
    "#             'KBA13_SEG_GROSSRAUMVANS', 'KBA13_SEG_MINIVANS', 'KBA13_SEG_MINIWAGEN', 'KBA13_SEG_OBEREMITTELKLASSE',\n",
    "#             'KBA13_SEG_OBERKLASSE', 'KBA13_SEG_SPORTWAGEN', 'KBA13_SEG_UTILITIES', 'KBA13_SEG_VAN', 'KBA13_SITZE_4',\n",
    "#             'KBA13_SITZE_5', 'KBA13_SITZE_6', 'KBA13_VORB_0', 'KBA13_VW', 'LP_FAMILIE_FEIN', 'LP_FAMILIE_GROB',\n",
    "#             'LP_LEBENSPHASE_FEIN', 'LP_LEBENSPHASE_GROB', 'LP_STATUS_FEIN', 'LP_STATUS_GROB', 'MIN_GEBAEUDEJAHR',\n",
    "#             'ONLINE_AFFINITAET', 'ORTSGR_KLS9', 'PLZ8_ANTG1', 'PLZ8_ANTG2', 'PLZ8_ANTG3', 'PLZ8_ANTG4', 'PLZ8_BAUMAX',\n",
    "#             'PLZ8_GBZ', 'PLZ8_HHZ', 'PRAEGENDE_JUGENDJAHRE', 'RELAT_AB', 'RETOURTYP_BK_S', 'SEMIO_DOM', 'SEMIO_ERL',\n",
    "#             'SEMIO_FAM', 'SEMIO_KAEM', 'SEMIO_KRIT', 'SEMIO_KULT', 'SEMIO_LUST', 'SEMIO_PFLICHT', 'SEMIO_RAT',\n",
    "#             'SEMIO_REL', 'SEMIO_SOZ', 'SEMIO_VERT', 'SHOPPER_TYP', 'VERS_TYP', 'WOHNDAUER_2008', 'W_KEIT_KIND_HH',\n",
    "#             'ZABEOTYP', 'CAMEO_DEU_2015_2D', 'CAMEO_DEU_2015_5D', 'CAMEO_DEU_2015_6B', 'CAMEO_DEU_2015_7B',\n",
    "#             'CAMEO_DEU_2015_7C', 'CAMEO_DEU_2015_9E', 'OST_WEST_KZ_W']\n",
    "\n",
    "# Sums_now list which used the PCA method for feature selection.\n",
    "best_cols = ['KBA13_ANZAHL_PKW', 'ANZ_HAUSHALTE_AKTIV', 'LP_LEBENSPHASE_FEIN', 'MIN_GEBAEUDEJAHR', 'D19_GESAMT_ONLINE_QUOTE_12',\n",
    "             'D19_VERSAND_ONLINE_QUOTE_12', 'GEBURTSJAHR', 'D19_GESAMT_ONLINE_DATUM', 'D19_VERSAND_ONLINE_DATUM', 'LP_LEBENSPHASE_GROB',\n",
    "             'D19_VERSAND_DATUM', 'D19_GESAMT_DATUM', 'LP_FAMILIE_FEIN', 'LP_STATUS_FEIN', 'D19_GESAMT_ANZ_24', 'D19_VERSAND_ANZ_24',\n",
    "             'D19_GESAMT_ANZ_12', 'D19_VERSAND_ANZ_12', 'PRAEGENDE_JUGENDJAHRE', 'LP_STATUS_GROB', 'LP_FAMILIE_GROB', 'CAMEO_DEUG_2015',\n",
    "             'D19_KONSUMTYP', 'CJT_GESAMTTYP', 'ONLINE_AFFINITAET', 'MOBI_REGIO', 'HH_EINKOMMEN_SCORE', 'KBA05_ANTG1', 'FINANZ_MINIMALIST',\n",
    "             'KBA05_GBZ', 'D19_BANKEN_ONLINE_QUOTE_12', 'D19_BANKEN_DATUM', 'ORTSGR_KLS9', 'D19_BANKEN_ONLINE_DATUM', 'D19_GESAMT_OFFLINE_DATUM',\n",
    "             'GEBAEUDETYP', 'PLZ8_BAUMAX', 'INNENSTADT', 'BALLRAUM', 'D19_VERSAND_OFFLINE_DATUM', 'WOHNDAUER_2008', 'EWDICHTE', 'ANZ_HH_TITEL',\n",
    "             'KBA05_AUTOQUOT', 'KONSUMNAEHE', 'PLZ8_GBZ', 'FINANZ_HAUSBAUER', 'SEMIO_VERT', 'FINANZ_SPARER', 'SEMIO_KAEM', 'RETOURTYP_BK_S',\n",
    "             'PLZ8_ANTG1', 'FINANZ_ANLEGER', 'FINANZ_VORSORGER', 'SEMIO_LUST', 'GEBAEUDETYP_RASTER', 'SEMIO_RAT', 'SEMIO_DOM', 'KBA13_HALTER_55',\n",
    "             'KBA05_ANTG4', 'SEMIO_PFLICHT', 'KBA05_KRSAQUOT', 'KBA13_ALTERHALTER_60', 'KBA13_AUTOQUOTE', 'SEMIO_KRIT', 'D19_TELKO_DATUM',\n",
    "             'ANZ_PERSONEN', 'GFK_URLAUBERTYP', 'KBA13_HALTER_50', 'PLZ8_ANTG3', 'REGIOTYP', 'ZABEOTYP', 'PLZ8_ANTG4', 'KBA13_HALTER_60',\n",
    "             'ALTERSKATEGORIE_GROB', 'KBA05_ANHANG', 'KBA13_SEG_VAN', 'KBA13_SEG_GROSSRAUMVANS', 'KBA13_HALTER_35', 'FINANZ_UNAUFFAELLIGER',\n",
    "             'RELAT_AB', 'KBA13_SEG_MINIVANS', 'FINANZTYP', 'KBA05_ANTG2', 'D19_BANKEN_ANZ_24', 'SEMIO_MAT', 'SEMIO_REL', 'KBA05_MOTRAD',\n",
    "             'KBA13_HALTER_20', 'SEMIO_TRADV', 'GREEN_AVANTGARDE', 'KBA13_HALTER_30', 'KBA05_DIESEL', 'KBA13_HERST_SONST',\n",
    "             'KBA13_FAB_SONSTIGE', 'KBA13_SITZE_6', 'KBA05_ALTER3', 'KBA05_SEG10', 'KBA13_ALTERHALTER_45', 'KBA13_HERST_FORD_OPEL',\n",
    "             'KBA05_MOD8', 'KBA05_SEG7', 'KBA05_ALTER4', 'KBA13_HALTER_40', 'KBA05_ANTG3', 'KBA13_KRSAQUOT', 'KBA13_SEG_GELAENDEWAGEN',\n",
    "             'HEALTH_TYP', 'KBA13_OPEL', 'KBA05_FRAU', 'KBA13_CCM_3001', 'PLZ8_ANTG2', 'KBA05_SEG5', 'D19_BANKEN_ANZ_12', 'KBA05_SEG9',\n",
    "             'KBA05_MODTEMP', 'KBA05_CCM3', 'KBA13_FORD', 'KBA13_SEG_UTILITIES', 'KBA05_HERST5', 'WOHNLAGE', 'KBA13_VW', 'KBA05_VORB1',\n",
    "             'D19_VERSI_ANZ_24', 'KBA13_CCM_1500', 'KBA05_MAXAH', 'KBA05_ZUL4', 'KBA13_HERST_AUDI_VW', 'KBA13_KMH_140', 'KBA05_SEG8',\n",
    "             'KBA13_KRSSEG_VAN', 'KBA13_SEG_KOMPAKTKLASSE', 'KBA13_CCM_2000', 'KBA05_KW3', 'ANREDE_KZ', 'KBA13_BJ_2009', 'KBA13_KMH_0_140',\n",
    "             'KBA05_HERST2', 'SHOPPER_TYP', 'W_KEIT_KIND_HH', 'KBA05_ZUL3', 'SEMIO_FAM', 'D19_TELKO_OFFLINE_DATUM', 'KBA13_KW_110',\n",
    "             'KBA13_MOTOR', 'KBA13_CCM_3000', 'KBA13_ALTERHALTER_30', 'OST_WEST_KZ_W', 'KBA05_CCM4', 'KBA05_HERST1', 'KBA13_SEG_WOHNMOBILE']"
   ]
  },
  {
   "cell_type": "code",
   "execution_count": null,
   "metadata": {},
   "outputs": [],
   "source": []
  },
  {
   "cell_type": "code",
   "execution_count": 24,
   "metadata": {},
   "outputs": [],
   "source": [
    "from sklearn.impute import SimpleImputer\n",
    "from sklearn.decomposition import PCA\n",
    "from sklearn.preprocessing import RobustScaler\n",
    "from sklearn import model_selection\n",
    "from sklearn.model_selection import cross_val_score\n",
    "from imblearn.combine import SMOTETomek, SMOTEENN\n",
    "from imblearn.over_sampling import SMOTE\n",
    "#from imblearn.over_sampling import SVMSMOTE\n",
    "#from imblearn.under_sampling import RandomUnderSampler, NearMiss"
   ]
  },
  {
   "cell_type": "markdown",
   "metadata": {},
   "source": [
    "Convert categorical data to dummy variables then Impute, decopmose and scale the data before passing through modelling."
   ]
  },
  {
   "cell_type": "code",
   "execution_count": 25,
   "metadata": {},
   "outputs": [],
   "source": [
    "# Create dummy columns from the categorical data.\n",
    "def dummy_variables(df, cat_cols, dummy_na=False):\n",
    "    '''\n",
    "    Function finds all categorical columns, creats dummy variables and deletes the original.\n",
    "    \n",
    "    Inputs:\n",
    "        df - dataframe to use.\n",
    "        cat_cols - a list of the categorical column in the dataframe.\n",
    "        dummy_na - Set to false.\n",
    "        \n",
    "    Output:\n",
    "       df - dataframe with the categorical columns replaced with their dummy variables.\n",
    "    '''\n",
    "    for col in cat_cols:\n",
    "        try:\n",
    "            # for eact category add a dummy variable and drop the original colunn.\n",
    "            df = pd.concat([df.drop(col, axis=1), pd.get_dummies(df[col], prefix=col, prefix_sep='_', drop_first=True, dummy_na=dummy_na)], axis=1)\n",
    "            \n",
    "        except:\n",
    "            continue\n",
    "    return df"
   ]
  },
  {
   "cell_type": "code",
   "execution_count": 26,
   "metadata": {},
   "outputs": [],
   "source": [
    "# Create the dummy features from the categorical data in the training dataset.\n",
    "train_cat_df = train_features.select_dtypes(include='object')\n",
    "train_cat_cols = train_cat_df.columns\n",
    "\n",
    "# Create the dummy variables from the categorical columns in df.\n",
    "train_data_dum = dummy_variables(train_features, train_cat_cols, dummy_na=False)"
   ]
  },
  {
   "cell_type": "code",
   "execution_count": 27,
   "metadata": {},
   "outputs": [],
   "source": [
    "# Create the dummy features from the categorical data in the test datset.\n",
    "test_cat_df = test_features.select_dtypes(include='object')\n",
    "test_cat_cols = test_cat_df.columns\n",
    "\n",
    "# Create the dummy variables from the categorical columns in df.\n",
    "test_data_dum = dummy_variables(test_features, test_cat_cols, dummy_na=False)"
   ]
  },
  {
   "cell_type": "code",
   "execution_count": 101,
   "metadata": {},
   "outputs": [],
   "source": [
    "imputer = SimpleImputer(strategy='most_frequent')\n",
    "\n",
    "# Impute the training data with most frequent values.\n",
    "train_features_im = pd.DataFrame(imputer.fit_transform(train_data_dum.values),\n",
    "                                columns = train_data_dum.columns)\n",
    "\n",
    "# Impute the test data with most frequent values.\n",
    "test_features_im = pd.DataFrame(imputer.fit_transform(test_data_dum.values),\n",
    "                                columns = test_data_dum.columns)"
   ]
  },
  {
   "cell_type": "code",
   "execution_count": 103,
   "metadata": {},
   "outputs": [],
   "source": [
    "# used to check if there are any missing values.\n",
    "#train_missing = train_features_im.isnull().mean()[train_features_im.isnull().mean() > 0] * 100\n",
    "#train_missing.reset_index().rename({'index': 'Attribute', 0: '% missing'}, axis = 1)\n",
    "\n",
    "scaler = RobustScaler()\n",
    "train_features_im = pd.DataFrame(scaler.fit_transform(train_features_im),\n",
    "                          columns=train_features_im.columns)\n",
    "\n",
    "test_features_im = pd.DataFrame(scaler.fit_transform(test_features_im),\n",
    "                          columns=test_features_im.columns)"
   ]
  },
  {
   "cell_type": "code",
   "execution_count": 104,
   "metadata": {},
   "outputs": [],
   "source": [
    "train_features_im = train_features_im[best_cols]\n",
    "test_features_im = test_features_im[best_cols]"
   ]
  },
  {
   "cell_type": "code",
   "execution_count": 121,
   "metadata": {},
   "outputs": [],
   "source": [
    "# Fixing the imbalance using over sampling.\n",
    "smote = SMOTE(sampling_strategy='auto', random_state=42)\n",
    "#smote = NearMiss(version=1)\n",
    "X_sm, y_sm = smote.fit_sample(train_features_im, train_response)"
   ]
  },
  {
   "cell_type": "code",
   "execution_count": 122,
   "metadata": {},
   "outputs": [],
   "source": [
    "from sklearn.model_selection import train_test_split, GridSearchCV\n",
    "from sklearn.metrics import auc, roc_curve\n",
    "from sklearn.ensemble import RandomForestRegressor\n",
    "from xgboost.sklearn import XGBRegressor\n",
    "import xgboost as xgb"
   ]
  },
  {
   "cell_type": "code",
   "execution_count": 123,
   "metadata": {},
   "outputs": [],
   "source": [
    "# Create a train_test_split of the training data.\n",
    "X_train, X_test, y_train, y_test = train_test_split(X_sm, \n",
    "                                                    y_sm, \n",
    "                                                    test_size=0.3, \n",
    "                                                    random_state=42)\n",
    "\n",
    "# Code that was submitted to kaggle did not use the sampling to fix the imbalance and we got\n",
    "# better results."
   ]
  },
  {
   "cell_type": "code",
   "execution_count": 124,
   "metadata": {},
   "outputs": [
    {
     "name": "stdout",
     "output_type": "stream",
     "text": [
      "Training data dummy, scaled and imputed:  (35094, 151)\n",
      "Test data dummy, scaled and imputed:  (42833, 151)\n"
     ]
    }
   ],
   "source": [
    "print('Training data dummy, scaled and imputed: ', train_features_im.shape)\n",
    "print('Test data dummy, scaled and imputed: ', test_features_im.shape)"
   ]
  },
  {
   "cell_type": "code",
   "execution_count": 109,
   "metadata": {},
   "outputs": [],
   "source": [
    "# instatiate the model.\n",
    "rf = RandomForestRegressor()"
   ]
  },
  {
   "cell_type": "code",
   "execution_count": 110,
   "metadata": {},
   "outputs": [
    {
     "data": {
      "text/plain": [
       "{'bootstrap': True,\n",
       " 'ccp_alpha': 0.0,\n",
       " 'criterion': 'mse',\n",
       " 'max_depth': None,\n",
       " 'max_features': 'auto',\n",
       " 'max_leaf_nodes': None,\n",
       " 'max_samples': None,\n",
       " 'min_impurity_decrease': 0.0,\n",
       " 'min_impurity_split': None,\n",
       " 'min_samples_leaf': 1,\n",
       " 'min_samples_split': 2,\n",
       " 'min_weight_fraction_leaf': 0.0,\n",
       " 'n_estimators': 100,\n",
       " 'n_jobs': None,\n",
       " 'oob_score': False,\n",
       " 'random_state': None,\n",
       " 'verbose': 0,\n",
       " 'warm_start': False}"
      ]
     },
     "execution_count": 110,
     "metadata": {},
     "output_type": "execute_result"
    }
   ],
   "source": [
    "rf.get_params()"
   ]
  },
  {
   "cell_type": "code",
   "execution_count": 111,
   "metadata": {},
   "outputs": [],
   "source": [
    "parameters = {\n",
    "    'max_depth': [7, 9, 12],\n",
    "    'min_samples_leaf': [2, 10, 25, 50],\n",
    "    'n_estimators': [100, 200, 500]\n",
    "}"
   ]
  },
  {
   "cell_type": "code",
   "execution_count": 112,
   "metadata": {},
   "outputs": [],
   "source": [
    "rf_model = GridSearchCV(rf, \n",
    "                        param_grid = parameters, \n",
    "                        cv = model_selection.KFold(5),\n",
    "                        n_jobs = -1)"
   ]
  },
  {
   "cell_type": "code",
   "execution_count": 113,
   "metadata": {},
   "outputs": [
    {
     "data": {
      "text/plain": [
       "GridSearchCV(cv=KFold(n_splits=5, random_state=None, shuffle=False),\n",
       "             estimator=RandomForestRegressor(), n_jobs=-1,\n",
       "             param_grid={'max_depth': [7, 9, 12],\n",
       "                         'min_samples_leaf': [2, 10, 25, 50],\n",
       "                         'n_estimators': [100, 200, 500]})"
      ]
     },
     "execution_count": 113,
     "metadata": {},
     "output_type": "execute_result"
    }
   ],
   "source": [
    "rf_model.fit(X_train, y_train)"
   ]
  },
  {
   "cell_type": "code",
   "execution_count": 114,
   "metadata": {},
   "outputs": [
    {
     "data": {
      "text/plain": [
       "{'max_depth': 7, 'min_samples_leaf': 50, 'n_estimators': 200}"
      ]
     },
     "execution_count": 114,
     "metadata": {},
     "output_type": "execute_result"
    }
   ],
   "source": [
    "rf_model.best_params_"
   ]
  },
  {
   "cell_type": "markdown",
   "metadata": {},
   "source": [
    "This is a record of the hyperparameters search used in the Gridsearch.\n",
    "\n",
    "`GridSearchCV(cv=KFold(n_splits=5, random_state=None, shuffle=False),\n",
    "             estimator=RandomForestRegressor(), n_jobs=-1,\n",
    "             param_grid={'max_depth': [7, 9, 12],\n",
    "                         'min_samples_leaf': [2, 10, 25, 50],\n",
    "                         'n_estimators': [100, 200, 500]})`\n",
    "                         \n",
    "The best_params_ were `{'max_depth': 7, 'min_samples_leaf': 50, 'n_estimators': 500}`"
   ]
  },
  {
   "cell_type": "code",
   "execution_count": 115,
   "metadata": {},
   "outputs": [],
   "source": [
    "y_pred = rf_model.predict(X_test)"
   ]
  },
  {
   "cell_type": "code",
   "execution_count": 116,
   "metadata": {},
   "outputs": [
    {
     "data": {
      "text/plain": [
       "0.6122329810875777"
      ]
     },
     "execution_count": 116,
     "metadata": {},
     "output_type": "execute_result"
    }
   ],
   "source": [
    "# Lets see how well the model did.\n",
    "fpr, tpr, threshold = roc_curve(y_test, y_pred)\n",
    "auc(fpr, tpr)"
   ]
  },
  {
   "cell_type": "code",
   "execution_count": 117,
   "metadata": {},
   "outputs": [],
   "source": [
    "from skopt import gp_minimize, BayesSearchCV\n",
    "from skopt.space import Real, Integer\n",
    "from functools import partial\n",
    "from sklearn.metrics import auc\n",
    "from sklearn.model_selection import StratifiedKFold"
   ]
  },
  {
   "cell_type": "code",
   "execution_count": 142,
   "metadata": {},
   "outputs": [],
   "source": [
    "xgb3 = BayesSearchCV(estimator=XGBRegressor(objective= 'binary:logistic',\n",
    "                                          eval_metric = 'auc'),\n",
    "                     search_spaces = {\n",
    "                         'colsample_bytree': (0.01, 1.0, 'uniform'),\n",
    "                         'gamma': (0.01, 1.0, 'uniform'),\n",
    "                         'learning_rate': (0.01, 1.0, 'log-uniform'),\n",
    "                         'max_depth': (1, 50),\n",
    "                         'subsample': (0.01, 1.0, 'uniform'),\n",
    "                         'reg_lambda': (1, 1000, 'log-uniform'),\n",
    "                         'reg_alpha': (0.001, 1.0, 'log-uniform'),\n",
    "                         'min_child_weight': (1, 10),\n",
    "                         'n_estimators': (50, 100),\n",
    "                         'scale_pos_weight': (1, 500, 'log-uniform')\n",
    "                     },\n",
    "                     \n",
    "                     cv = StratifiedKFold(\n",
    "                         n_splits=3,\n",
    "                         shuffle=True,\n",
    "                         random_state=42\n",
    "                     ),\n",
    "                     \n",
    "                     n_iter = 32,\n",
    "                     refit = True,\n",
    "                     scoring = 'roc_auc',\n",
    "                     random_state = 42)\n",
    "\n",
    "def show_stats(result):\n",
    "    '''\n",
    "    Callback over the bayesian hyper-parameter search.\n",
    "    '''\n",
    "    \n",
    "    # Models run added to DataFrame\n",
    "    all_models = pd.DataFrame(xgb3.cv_results_)    \n",
    "    \n",
    "    # Get current parameters and the best parameters    \n",
    "    best_params = pd.Series(xgb3.best_params_)\n",
    "    print('Parameter search {}  :  Best roc_auc: {}'.format(len(all_models),\n",
    "                                                                 np.round(xgb3.best_score_, 4)\n",
    "                                                                 #xgb3.best_params_\n",
    "                                                                ))\n",
    "    \n",
    "    # Save all model results\n",
    "    clf = xgb3.estimator.__class__.__name__\n",
    "    all_models.to_csv(clf+\"_cv_results.csv\")"
   ]
  },
  {
   "cell_type": "code",
   "execution_count": null,
   "metadata": {},
   "outputs": [
    {
     "name": "stdout",
     "output_type": "stream",
     "text": [
      "Parameter search 1  :  Best roc_auc: 0.9969\n",
      "Parameter search 2  :  Best roc_auc: 0.9969\n",
      "Parameter search 3  :  Best roc_auc: 0.9969\n",
      "Parameter search 4  :  Best roc_auc: 0.9969\n",
      "Parameter search 5  :  Best roc_auc: 0.997\n",
      "Parameter search 6  :  Best roc_auc: 0.997\n"
     ]
    }
   ],
   "source": [
    "result = xgb3.fit(X_train.values, y_train.values, callback=show_stats)"
   ]
  },
  {
   "cell_type": "code",
   "execution_count": 131,
   "metadata": {},
   "outputs": [
    {
     "data": {
      "text/plain": [
       "OrderedDict([('colsample_bytree', 0.6350532527484406),\n",
       "             ('gamma', 0.3271625731563198),\n",
       "             ('learning_rate', 0.4056620356407489),\n",
       "             ('max_depth', 38),\n",
       "             ('min_child_weight', 8),\n",
       "             ('n_estimators', 83),\n",
       "             ('reg_alpha', 0.02197706740260341),\n",
       "             ('reg_lambda', 687),\n",
       "             ('scale_pos_weight', 134),\n",
       "             ('subsample', 0.6800765606174873)])"
      ]
     },
     "execution_count": 131,
     "metadata": {},
     "output_type": "execute_result"
    }
   ],
   "source": [
    "xgb3.best_params_"
   ]
  },
  {
   "cell_type": "code",
   "execution_count": 133,
   "metadata": {},
   "outputs": [
    {
     "name": "stdout",
     "output_type": "stream",
     "text": [
      "[0]\tvalidation_0-auc:0.58160\tvalidation_1-auc:0.58728\n",
      "Multiple eval metrics have been passed: 'validation_1-auc' will be used for early stopping.\n",
      "\n",
      "Will train until validation_1-auc hasn't improved in 30 rounds.\n",
      "[1]\tvalidation_0-auc:0.71555\tvalidation_1-auc:0.71662\n"
     ]
    },
    {
     "data": {
      "text/plain": [
       "XGBModel(alpha=0.02197706740260341, base_score=0.5, booster='gbtree',\n",
       "         colsample_bylevel=1, colsample_bynode=1,\n",
       "         colsample_bytree=0.6350532527484406, gamma=0.3271625731563198,\n",
       "         gpu_id=-1, interaction_constraints='', lambda=687,\n",
       "         learning_rate=0.4056620356407489, max_delta_step=0, max_depth=38,\n",
       "         min_child_weight=8, monotone_constraints='()', n_estimators=2,\n",
       "         n_jobs=4, nthread=4, num_parallel_tree=1, objective='binary:logistic',\n",
       "         random_state=42, reg_alpha=0.021977067, reg_lambda=687,\n",
       "         scale_pos_weight=134, seed=27, subsample=0.41398375599088655,\n",
       "         tree_method='exact', validate_parameters=1)"
      ]
     },
     "execution_count": 133,
     "metadata": {},
     "output_type": "execute_result"
    }
   ],
   "source": [
    "param_dist = {\n",
    "    'learning_rate':0.4056620356407489,\n",
    "    'n_estimators':2,\n",
    "    'max_depth':38,\n",
    "    'min_child_weight':8,\n",
    "    'gamma':0.3271625731563198,\n",
    "    'subsample':0.41398375599088655,\n",
    "    'colsample_bytree':0.6350532527484406,\n",
    "    'objective':'binary:logistic',\n",
    "    'nthread':4,\n",
    "    'scale_pos_weight':134,\n",
    "    'seed':27,\n",
    "    'random_state':42,\n",
    "    'alpha':0.02197706740260341,\n",
    "    'lambda':687\n",
    "}\n",
    "\n",
    "xgb2 = xgb.XGBModel(**param_dist)\n",
    "\n",
    "xgb2.fit(X_train, y_train,\n",
    "        eval_set=[(X_train, y_train), (X_test, y_test)],\n",
    "        eval_metric='auc',\n",
    "        verbose=True,\n",
    "        early_stopping_rounds=30)"
   ]
  },
  {
   "cell_type": "code",
   "execution_count": 134,
   "metadata": {},
   "outputs": [
    {
     "data": {
      "image/png": "[encoded data removed]",
      "text/plain": [
       "<Figure size 4320x2880 with 1 Axes>"
      ]
     },
     "metadata": {
      "needs_background": "light"
     },
     "output_type": "display_data"
    }
   ],
   "source": [
    "xgb.plot_importance(xgb2)\n",
    "plt.rcParams['figure.figsize']=[60,40]"
   ]
  },
  {
   "cell_type": "code",
   "execution_count": 138,
   "metadata": {},
   "outputs": [],
   "source": [
    "test_labels = xgb2.predict(test_features_im)\n",
    "\n",
    "submission = pd.DataFrame(test_labels, index=test_lrn.astype('int32'),\n",
    "                         columns=['RESPONSE'])"
   ]
  },
  {
   "cell_type": "code",
   "execution_count": 136,
   "metadata": {},
   "outputs": [],
   "source": [
    "rf_test_labels = rf_model.predict(test_features_im)\n",
    "\n",
    "submission = pd.DataFrame(rf_test_labels, index=test_lrn.astype('int32'),\n",
    "                         columns=['RESPONSE'])"
   ]
  },
  {
   "cell_type": "code",
   "execution_count": 139,
   "metadata": {},
   "outputs": [
    {
     "data": {
      "text/html": [
       "<div>\n",
       "<style scoped>\n",
       "    .dataframe tbody tr th:only-of-type {\n",
       "        vertical-align: middle;\n",
       "    }\n",
       "\n",
       "    .dataframe tbody tr th {\n",
       "        vertical-align: top;\n",
       "    }\n",
       "\n",
       "    .dataframe thead th {\n",
       "        text-align: right;\n",
       "    }\n",
       "</style>\n",
       "<table border=\"1\" class=\"dataframe\">\n",
       "  <thead>\n",
       "    <tr style=\"text-align: right;\">\n",
       "      <th></th>\n",
       "      <th>RESPONSE</th>\n",
       "    </tr>\n",
       "    <tr>\n",
       "      <th>LNR</th>\n",
       "      <th></th>\n",
       "    </tr>\n",
       "  </thead>\n",
       "  <tbody>\n",
       "    <tr>\n",
       "      <th>1754</th>\n",
       "      <td>0.661624</td>\n",
       "    </tr>\n",
       "    <tr>\n",
       "      <th>1770</th>\n",
       "      <td>0.656445</td>\n",
       "    </tr>\n",
       "    <tr>\n",
       "      <th>1465</th>\n",
       "      <td>0.485565</td>\n",
       "    </tr>\n",
       "    <tr>\n",
       "      <th>1470</th>\n",
       "      <td>0.685718</td>\n",
       "    </tr>\n",
       "    <tr>\n",
       "      <th>1478</th>\n",
       "      <td>0.463848</td>\n",
       "    </tr>\n",
       "  </tbody>\n",
       "</table>\n",
       "</div>"
      ],
      "text/plain": [
       "      RESPONSE\n",
       "LNR           \n",
       "1754  0.661624\n",
       "1770  0.656445\n",
       "1465  0.485565\n",
       "1470  0.685718\n",
       "1478  0.463848"
      ]
     },
     "execution_count": 139,
     "metadata": {},
     "output_type": "execute_result"
    }
   ],
   "source": [
    "submission.head()"
   ]
  },
  {
   "cell_type": "code",
   "execution_count": 140,
   "metadata": {},
   "outputs": [
    {
     "data": {
      "text/html": [
       "<div>\n",
       "<style scoped>\n",
       "    .dataframe tbody tr th:only-of-type {\n",
       "        vertical-align: middle;\n",
       "    }\n",
       "\n",
       "    .dataframe tbody tr th {\n",
       "        vertical-align: top;\n",
       "    }\n",
       "\n",
       "    .dataframe thead th {\n",
       "        text-align: right;\n",
       "    }\n",
       "</style>\n",
       "<table border=\"1\" class=\"dataframe\">\n",
       "  <thead>\n",
       "    <tr style=\"text-align: right;\">\n",
       "      <th></th>\n",
       "      <th>RESPONSE</th>\n",
       "    </tr>\n",
       "    <tr>\n",
       "      <th>LNR</th>\n",
       "      <th></th>\n",
       "    </tr>\n",
       "  </thead>\n",
       "  <tbody>\n",
       "    <tr>\n",
       "      <th>1754</th>\n",
       "      <td>0.661624</td>\n",
       "    </tr>\n",
       "    <tr>\n",
       "      <th>1770</th>\n",
       "      <td>0.656445</td>\n",
       "    </tr>\n",
       "    <tr>\n",
       "      <th>1465</th>\n",
       "      <td>0.485565</td>\n",
       "    </tr>\n",
       "    <tr>\n",
       "      <th>1470</th>\n",
       "      <td>0.685718</td>\n",
       "    </tr>\n",
       "    <tr>\n",
       "      <th>1478</th>\n",
       "      <td>0.463848</td>\n",
       "    </tr>\n",
       "    <tr>\n",
       "      <th>...</th>\n",
       "      <td>...</td>\n",
       "    </tr>\n",
       "    <tr>\n",
       "      <th>67615</th>\n",
       "      <td>0.798615</td>\n",
       "    </tr>\n",
       "    <tr>\n",
       "      <th>67938</th>\n",
       "      <td>0.661624</td>\n",
       "    </tr>\n",
       "    <tr>\n",
       "      <th>67942</th>\n",
       "      <td>0.740508</td>\n",
       "    </tr>\n",
       "    <tr>\n",
       "      <th>67949</th>\n",
       "      <td>0.661624</td>\n",
       "    </tr>\n",
       "    <tr>\n",
       "      <th>68898</th>\n",
       "      <td>0.477340</td>\n",
       "    </tr>\n",
       "  </tbody>\n",
       "</table>\n",
       "<p>42833 rows × 1 columns</p>\n",
       "</div>"
      ],
      "text/plain": [
       "       RESPONSE\n",
       "LNR            \n",
       "1754   0.661624\n",
       "1770   0.656445\n",
       "1465   0.485565\n",
       "1470   0.685718\n",
       "1478   0.463848\n",
       "...         ...\n",
       "67615  0.798615\n",
       "67938  0.661624\n",
       "67942  0.740508\n",
       "67949  0.661624\n",
       "68898  0.477340\n",
       "\n",
       "[42833 rows x 1 columns]"
      ]
     },
     "execution_count": 140,
     "metadata": {},
     "output_type": "execute_result"
    }
   ],
   "source": [
    "submission[submission['RESPONSE'] > 0.01]"
   ]
  },
  {
   "cell_type": "code",
   "execution_count": 141,
   "metadata": {},
   "outputs": [],
   "source": [
    "# Save the file for submission.\n",
    "submission.to_csv('submission.csv')"
   ]
  },
  {
   "cell_type": "code",
   "execution_count": null,
   "metadata": {},
   "outputs": [],
   "source": []
  },
  {
   "cell_type": "code",
   "execution_count": null,
   "metadata": {},
   "outputs": [],
   "source": []
  }
 ],
 "metadata": {
  "kernelspec": {
   "display_name": "Python 3",
   "language": "python",
   "name": "python3"
  },
  "language_info": {
   "codemirror_mode": {
    "name": "ipython",
    "version": 3
   },
   "file_extension": ".py",
   "mimetype": "text/x-python",
   "name": "python",
   "nbconvert_exporter": "python",
   "pygments_lexer": "ipython3",
   "version": "3.7.7"
  }
 },
 "nbformat": 4,
 "nbformat_minor": 4
}
