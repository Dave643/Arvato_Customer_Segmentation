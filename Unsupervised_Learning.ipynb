{
 "cells": [
  {
   "cell_type": "markdown",
   "metadata": {},
   "source": [
    "## Part 1: Customer Segmentation Report\n",
    "\n",
    "The main bulk of your analysis will come in this part of the project. Here, you should use unsupervised learning techniques to describe the relationship between the demographics of the company's existing customers and the general population of Germany. By the end of this part, you should be able to describe parts of the general population that are more likely to be part of the mail-order company's main customer base, and which parts of the general population are less so."
   ]
  },
  {
   "cell_type": "code",
   "execution_count": 1,
   "metadata": {},
   "outputs": [],
   "source": [
    "# import libraries here; add more as necessary\n",
    "import numpy as np\n",
    "import pandas as pd\n",
    "import matplotlib.pyplot as plt\n",
    "#plt.style.use('ggplot')\n",
    "import seaborn as sns\n",
    "\n",
    "from sklearn.impute import SimpleImputer\n",
    "from sklearn.decomposition import NMF, PCA\n",
    "from sklearn.preprocessing import Normalizer, MaxAbsScaler, StandardScaler, RobustScaler\n",
    "from sklearn.pipeline import make_pipeline"
   ]
  },
  {
   "cell_type": "code",
   "execution_count": 2,
   "metadata": {},
   "outputs": [],
   "source": [
    "# Load the files:\n",
    "cust_features = pd.read_csv('./customer_features.csv')\n",
    "cust_labels = pd.read_csv('./customer_labels.csv')\n",
    "cust_id = pd.read_csv('./customer_id.csv')"
   ]
  },
  {
   "cell_type": "code",
   "execution_count": 3,
   "metadata": {},
   "outputs": [],
   "source": [
    "cust_features.drop(columns = 'Unnamed: 0', inplace = True)\n",
    "cust_labels.drop(columns = 'Unnamed: 0', inplace = True)"
   ]
  },
  {
   "cell_type": "code",
   "execution_count": 4,
   "metadata": {},
   "outputs": [],
   "source": [
    "# Best columns to keep from best_cols using SelectKBest method.\n",
    "\n",
    "#best_cols = ['ALTERSKATEGORIE_GROB', 'ANREDE_KZ', 'ANZ_HAUSHALTE_AKTIV', 'ANZ_HH_TITEL', 'ANZ_TITEL',\n",
    "#             'CAMEO_DEUG_2015', 'CJT_GESAMTTYP', 'D19_BANKEN_ANZ_12', 'D19_BANKEN_ANZ_24', 'D19_BANKEN_DATUM',\n",
    "#             'D19_BANKEN_OFFLINE_DATUM', 'D19_BANKEN_ONLINE_DATUM', 'D19_BANKEN_ONLINE_QUOTE_12', 'D19_GESAMT_ANZ_12',\n",
    "#             'D19_GESAMT_ANZ_24', 'D19_GESAMT_DATUM', 'D19_GESAMT_OFFLINE_DATUM', 'D19_GESAMT_ONLINE_DATUM',\n",
    "#             'D19_GESAMT_ONLINE_QUOTE_12', 'D19_KONSUMTYP', 'D19_TELKO_ANZ_12', 'D19_TELKO_ANZ_24', 'D19_TELKO_DATUM',\n",
    "#             'D19_TELKO_OFFLINE_DATUM', 'D19_TELKO_ONLINE_DATUM', 'D19_VERSAND_ANZ_12', 'D19_VERSAND_ANZ_24', 'D19_VERSAND_DATUM',\n",
    "#             'D19_VERSAND_OFFLINE_DATUM', 'D19_VERSAND_ONLINE_DATUM', 'D19_VERSAND_ONLINE_QUOTE_12', 'D19_VERSI_ANZ_12',\n",
    "#             'D19_VERSI_ANZ_24', 'EWDICHTE', 'FINANZTYP', 'FINANZ_ANLEGER', 'FINANZ_MINIMALIST', 'FINANZ_SPARER',\n",
    "#             'FINANZ_UNAUFFAELLIGER', 'FINANZ_VORSORGER', 'GEBAEUDETYP', 'GEBAEUDETYP_RASTER', 'GEBURTSJAHR',\n",
    "#             'GFK_URLAUBERTYP', 'GREEN_AVANTGARDE', 'HH_EINKOMMEN_SCORE', 'KBA05_ALTER4', 'KBA05_ANTG2', 'KBA05_ANTG4',\n",
    "#             'KBA05_CCM3', 'KBA05_CCM4', 'KBA05_DIESEL', 'KBA05_FRAU', 'KBA05_HERST1', 'KBA05_HERST2', 'KBA05_KRSAQUOT',\n",
    "#             'KBA05_KRSHERST1', 'KBA05_KRSHERST2', 'KBA05_KRSZUL', 'KBA05_KW2', 'KBA05_KW3', 'KBA05_MAXAH', 'KBA05_MAXBJ',\n",
    "#             'KBA05_MAXSEG', 'KBA05_MOD1', 'KBA05_MOD3', 'KBA05_MOD8', 'KBA05_MOTOR', 'KBA05_SEG10', 'KBA05_SEG4', 'KBA05_SEG5',\n",
    "#             'KBA05_SEG6', 'KBA05_SEG7', 'KBA05_SEG8', 'KBA05_VORB0', 'KBA05_ZUL1', 'KBA05_ZUL2', 'KBA05_ZUL4',\n",
    "#             'KBA13_ALTERHALTER_45', 'KBA13_ALTERHALTER_61', 'KBA13_ANZAHL_PKW', 'KBA13_AUDI', 'KBA13_BMW', 'KBA13_CCM_1500',\n",
    "#             'KBA13_CCM_2000', 'KBA13_CCM_2500', 'KBA13_CCM_2501', 'KBA13_CCM_3000', 'KBA13_CCM_3001', 'KBA13_FIAT',\n",
    "#             'KBA13_HALTER_40', 'KBA13_HALTER_45', 'KBA13_HALTER_55', 'KBA13_HALTER_65', 'KBA13_HALTER_66',\n",
    "#             'KBA13_HERST_AUDI_VW', 'KBA13_HERST_BMW_BENZ', 'KBA13_HERST_EUROPA', 'KBA13_HERST_FORD_OPEL', 'KBA13_KMH_140',\n",
    "#             'KBA13_KMH_211', 'KBA13_KMH_250', 'KBA13_KMH_251', 'KBA13_KRSHERST_AUDI_VW', 'KBA13_KRSHERST_BMW_BENZ',\n",
    "#             'KBA13_KRSZUL_NEU', 'KBA13_KW_121', 'KBA13_MERCEDES', 'KBA13_MOTOR', 'KBA13_OPEL', 'KBA13_PEUGEOT',\n",
    "#             'KBA13_SEG_GROSSRAUMVANS', 'KBA13_SEG_MINIVANS', 'KBA13_SEG_MINIWAGEN', 'KBA13_SEG_OBEREMITTELKLASSE',\n",
    "#             'KBA13_SEG_OBERKLASSE', 'KBA13_SEG_SPORTWAGEN', 'KBA13_SEG_UTILITIES', 'KBA13_SEG_VAN', 'KBA13_SITZE_4',\n",
    "#             'KBA13_SITZE_5', 'KBA13_SITZE_6', 'KBA13_VORB_0', 'KBA13_VW', 'LP_FAMILIE_FEIN', 'LP_FAMILIE_GROB',\n",
    "#             'LP_LEBENSPHASE_FEIN', 'LP_LEBENSPHASE_GROB', 'LP_STATUS_FEIN', 'LP_STATUS_GROB', 'MIN_GEBAEUDEJAHR',\n",
    "#             'ONLINE_AFFINITAET', 'ORTSGR_KLS9', 'PLZ8_ANTG1', 'PLZ8_ANTG2', 'PLZ8_ANTG3', 'PLZ8_ANTG4', 'PLZ8_BAUMAX',\n",
    "#             'PLZ8_GBZ', 'PLZ8_HHZ', 'PRAEGENDE_JUGENDJAHRE', 'RELAT_AB', 'RETOURTYP_BK_S', 'SEMIO_DOM', 'SEMIO_ERL',\n",
    "#             'SEMIO_FAM', 'SEMIO_KAEM', 'SEMIO_KRIT', 'SEMIO_KULT', 'SEMIO_LUST', 'SEMIO_PFLICHT', 'SEMIO_RAT',\n",
    "#             'SEMIO_REL', 'SEMIO_SOZ', 'SEMIO_VERT', 'SHOPPER_TYP', 'VERS_TYP', 'WOHNDAUER_2008', 'W_KEIT_KIND_HH',\n",
    "#             'ZABEOTYP', 'CAMEO_DEU_2015_2D', 'CAMEO_DEU_2015_5D', 'CAMEO_DEU_2015_6B', 'CAMEO_DEU_2015_7B',\n",
    "#             'CAMEO_DEU_2015_7C', 'CAMEO_DEU_2015_9E', 'OST_WEST_KZ_W']\n",
    "\n",
    "# Sums_now list which used the PCA method for feature selection.\n",
    "best_cols = ['KBA13_ANZAHL_PKW', 'ANZ_HAUSHALTE_AKTIV', 'LP_LEBENSPHASE_FEIN', 'MIN_GEBAEUDEJAHR', 'D19_GESAMT_ONLINE_QUOTE_12',\n",
    "             'D19_VERSAND_ONLINE_QUOTE_12', 'GEBURTSJAHR', 'D19_GESAMT_ONLINE_DATUM', 'D19_VERSAND_ONLINE_DATUM', 'LP_LEBENSPHASE_GROB',\n",
    "             'D19_VERSAND_DATUM', 'D19_GESAMT_DATUM', 'LP_FAMILIE_FEIN', 'LP_STATUS_FEIN', 'D19_GESAMT_ANZ_24', 'D19_VERSAND_ANZ_24',\n",
    "             'D19_GESAMT_ANZ_12', 'D19_VERSAND_ANZ_12', 'PRAEGENDE_JUGENDJAHRE', 'LP_STATUS_GROB', 'LP_FAMILIE_GROB', 'CAMEO_DEUG_2015',\n",
    "             'D19_KONSUMTYP', 'CJT_GESAMTTYP', 'ONLINE_AFFINITAET', 'MOBI_REGIO', 'HH_EINKOMMEN_SCORE', 'KBA05_ANTG1', 'FINANZ_MINIMALIST',\n",
    "             'KBA05_GBZ', 'D19_BANKEN_ONLINE_QUOTE_12', 'D19_BANKEN_DATUM', 'ORTSGR_KLS9', 'D19_BANKEN_ONLINE_DATUM', 'D19_GESAMT_OFFLINE_DATUM',\n",
    "             'GEBAEUDETYP', 'PLZ8_BAUMAX', 'INNENSTADT', 'BALLRAUM', 'D19_VERSAND_OFFLINE_DATUM', 'WOHNDAUER_2008', 'EWDICHTE', 'ANZ_HH_TITEL',\n",
    "             'KBA05_AUTOQUOT', 'KONSUMNAEHE', 'PLZ8_GBZ', 'FINANZ_HAUSBAUER', 'SEMIO_VERT', 'FINANZ_SPARER', 'SEMIO_KAEM', 'RETOURTYP_BK_S',\n",
    "             'PLZ8_ANTG1', 'FINANZ_ANLEGER', 'FINANZ_VORSORGER', 'SEMIO_LUST', 'GEBAEUDETYP_RASTER', 'SEMIO_RAT', 'SEMIO_DOM', 'KBA13_HALTER_55',\n",
    "             'KBA05_ANTG4', 'SEMIO_PFLICHT', 'KBA05_KRSAQUOT', 'KBA13_ALTERHALTER_60', 'KBA13_AUTOQUOTE', 'SEMIO_KRIT', 'D19_TELKO_DATUM',\n",
    "             'ANZ_PERSONEN', 'GFK_URLAUBERTYP', 'KBA13_HALTER_50', 'PLZ8_ANTG3', 'REGIOTYP', 'ZABEOTYP', 'PLZ8_ANTG4', 'KBA13_HALTER_60',\n",
    "             'ALTERSKATEGORIE_GROB', 'KBA05_ANHANG', 'KBA13_SEG_VAN', 'KBA13_SEG_GROSSRAUMVANS', 'KBA13_HALTER_35', 'FINANZ_UNAUFFAELLIGER',\n",
    "             'RELAT_AB', 'KBA13_SEG_MINIVANS', 'FINANZTYP', 'KBA05_ANTG2', 'D19_BANKEN_ANZ_24', 'SEMIO_MAT', 'SEMIO_REL', 'KBA05_MOTRAD',\n",
    "             'KBA13_HALTER_20', 'SEMIO_TRADV', 'GREEN_AVANTGARDE', 'KBA13_HALTER_30', 'KBA05_DIESEL', 'KBA13_HERST_SONST',\n",
    "             'KBA13_FAB_SONSTIGE', 'KBA13_SITZE_6', 'KBA05_ALTER3', 'KBA05_SEG10', 'KBA13_ALTERHALTER_45', 'KBA13_HERST_FORD_OPEL',\n",
    "             'KBA05_MOD8', 'KBA05_SEG7', 'KBA05_ALTER4', 'KBA13_HALTER_40', 'KBA05_ANTG3', 'KBA13_KRSAQUOT', 'KBA13_SEG_GELAENDEWAGEN',\n",
    "             'HEALTH_TYP', 'KBA13_OPEL', 'KBA05_FRAU', 'KBA13_CCM_3001', 'PLZ8_ANTG2', 'KBA05_SEG5', 'D19_BANKEN_ANZ_12', 'KBA05_SEG9',\n",
    "             'KBA05_MODTEMP', 'KBA05_CCM3', 'KBA13_FORD', 'KBA13_SEG_UTILITIES', 'KBA05_HERST5', 'WOHNLAGE', 'KBA13_VW', 'KBA05_VORB1',\n",
    "             'D19_VERSI_ANZ_24', 'KBA13_CCM_1500', 'KBA05_MAXAH', 'KBA05_ZUL4', 'KBA13_HERST_AUDI_VW', 'KBA13_KMH_140', 'KBA05_SEG8',\n",
    "             'KBA13_KRSSEG_VAN', 'KBA13_SEG_KOMPAKTKLASSE', 'KBA13_CCM_2000', 'KBA05_KW3', 'ANREDE_KZ', 'KBA13_BJ_2009', 'KBA13_KMH_0_140',\n",
    "             'KBA05_HERST2', 'SHOPPER_TYP', 'W_KEIT_KIND_HH', 'KBA05_ZUL3', 'SEMIO_FAM', 'D19_TELKO_OFFLINE_DATUM', 'KBA13_KW_110',\n",
    "             'KBA13_MOTOR', 'KBA13_CCM_3000', 'KBA13_ALTERHALTER_30', 'OST_WEST_KZ_W', 'KBA05_CCM4', 'KBA05_HERST1', 'KBA13_SEG_WOHNMOBILE']"
   ]
  },
  {
   "cell_type": "code",
   "execution_count": 5,
   "metadata": {},
   "outputs": [],
   "source": [
    "#cust_features = cust_features[best_cols]"
   ]
  },
  {
   "cell_type": "code",
   "execution_count": 6,
   "metadata": {},
   "outputs": [
    {
     "data": {
      "text/html": [
       "<div>\n",
       "<style scoped>\n",
       "    .dataframe tbody tr th:only-of-type {\n",
       "        vertical-align: middle;\n",
       "    }\n",
       "\n",
       "    .dataframe tbody tr th {\n",
       "        vertical-align: top;\n",
       "    }\n",
       "\n",
       "    .dataframe thead th {\n",
       "        text-align: right;\n",
       "    }\n",
       "</style>\n",
       "<table border=\"1\" class=\"dataframe\">\n",
       "  <thead>\n",
       "    <tr style=\"text-align: right;\">\n",
       "      <th></th>\n",
       "      <th>ALTERSKATEGORIE_GROB</th>\n",
       "      <th>ANREDE_KZ</th>\n",
       "      <th>ANZ_HAUSHALTE_AKTIV</th>\n",
       "      <th>ANZ_HH_TITEL</th>\n",
       "      <th>ANZ_PERSONEN</th>\n",
       "      <th>ANZ_TITEL</th>\n",
       "      <th>BALLRAUM</th>\n",
       "      <th>CAMEO_DEUG_2015</th>\n",
       "      <th>CAMEO_DEU_2015</th>\n",
       "      <th>CJT_GESAMTTYP</th>\n",
       "      <th>...</th>\n",
       "      <th>SEMIO_REL</th>\n",
       "      <th>SEMIO_SOZ</th>\n",
       "      <th>SEMIO_TRADV</th>\n",
       "      <th>SEMIO_VERT</th>\n",
       "      <th>SHOPPER_TYP</th>\n",
       "      <th>VERS_TYP</th>\n",
       "      <th>WOHNDAUER_2008</th>\n",
       "      <th>WOHNLAGE</th>\n",
       "      <th>W_KEIT_KIND_HH</th>\n",
       "      <th>ZABEOTYP</th>\n",
       "    </tr>\n",
       "  </thead>\n",
       "  <tbody>\n",
       "    <tr>\n",
       "      <th>0</th>\n",
       "      <td>4</td>\n",
       "      <td>1</td>\n",
       "      <td>1.0</td>\n",
       "      <td>0.0</td>\n",
       "      <td>2.0</td>\n",
       "      <td>0.0</td>\n",
       "      <td>3.0</td>\n",
       "      <td>1.0</td>\n",
       "      <td>1A</td>\n",
       "      <td>5.0</td>\n",
       "      <td>...</td>\n",
       "      <td>2</td>\n",
       "      <td>6</td>\n",
       "      <td>1</td>\n",
       "      <td>6</td>\n",
       "      <td>3.0</td>\n",
       "      <td>1.0</td>\n",
       "      <td>9.0</td>\n",
       "      <td>7.0</td>\n",
       "      <td>6.0</td>\n",
       "      <td>3</td>\n",
       "    </tr>\n",
       "    <tr>\n",
       "      <th>1</th>\n",
       "      <td>4</td>\n",
       "      <td>1</td>\n",
       "      <td>NaN</td>\n",
       "      <td>NaN</td>\n",
       "      <td>3.0</td>\n",
       "      <td>0.0</td>\n",
       "      <td>NaN</td>\n",
       "      <td>NaN</td>\n",
       "      <td>NaN</td>\n",
       "      <td>NaN</td>\n",
       "      <td>...</td>\n",
       "      <td>2</td>\n",
       "      <td>3</td>\n",
       "      <td>1</td>\n",
       "      <td>7</td>\n",
       "      <td>3.0</td>\n",
       "      <td>1.0</td>\n",
       "      <td>9.0</td>\n",
       "      <td>NaN</td>\n",
       "      <td>NaN</td>\n",
       "      <td>3</td>\n",
       "    </tr>\n",
       "    <tr>\n",
       "      <th>2</th>\n",
       "      <td>4</td>\n",
       "      <td>2</td>\n",
       "      <td>1.0</td>\n",
       "      <td>0.0</td>\n",
       "      <td>1.0</td>\n",
       "      <td>0.0</td>\n",
       "      <td>7.0</td>\n",
       "      <td>5.0</td>\n",
       "      <td>5D</td>\n",
       "      <td>2.0</td>\n",
       "      <td>...</td>\n",
       "      <td>1</td>\n",
       "      <td>2</td>\n",
       "      <td>1</td>\n",
       "      <td>3</td>\n",
       "      <td>1.0</td>\n",
       "      <td>2.0</td>\n",
       "      <td>9.0</td>\n",
       "      <td>2.0</td>\n",
       "      <td>6.0</td>\n",
       "      <td>3</td>\n",
       "    </tr>\n",
       "    <tr>\n",
       "      <th>3</th>\n",
       "      <td>4</td>\n",
       "      <td>1</td>\n",
       "      <td>0.0</td>\n",
       "      <td>NaN</td>\n",
       "      <td>0.0</td>\n",
       "      <td>0.0</td>\n",
       "      <td>7.0</td>\n",
       "      <td>4.0</td>\n",
       "      <td>4C</td>\n",
       "      <td>2.0</td>\n",
       "      <td>...</td>\n",
       "      <td>3</td>\n",
       "      <td>6</td>\n",
       "      <td>4</td>\n",
       "      <td>7</td>\n",
       "      <td>0.0</td>\n",
       "      <td>1.0</td>\n",
       "      <td>9.0</td>\n",
       "      <td>7.0</td>\n",
       "      <td>NaN</td>\n",
       "      <td>1</td>\n",
       "    </tr>\n",
       "    <tr>\n",
       "      <th>4</th>\n",
       "      <td>3</td>\n",
       "      <td>1</td>\n",
       "      <td>7.0</td>\n",
       "      <td>0.0</td>\n",
       "      <td>4.0</td>\n",
       "      <td>0.0</td>\n",
       "      <td>3.0</td>\n",
       "      <td>7.0</td>\n",
       "      <td>7B</td>\n",
       "      <td>6.0</td>\n",
       "      <td>...</td>\n",
       "      <td>4</td>\n",
       "      <td>4</td>\n",
       "      <td>4</td>\n",
       "      <td>5</td>\n",
       "      <td>1.0</td>\n",
       "      <td>2.0</td>\n",
       "      <td>9.0</td>\n",
       "      <td>3.0</td>\n",
       "      <td>2.0</td>\n",
       "      <td>1</td>\n",
       "    </tr>\n",
       "  </tbody>\n",
       "</table>\n",
       "<p>5 rows × 268 columns</p>\n",
       "</div>"
      ],
      "text/plain": [
       "   ALTERSKATEGORIE_GROB  ANREDE_KZ  ANZ_HAUSHALTE_AKTIV  ANZ_HH_TITEL  \\\n",
       "0                     4          1                  1.0           0.0   \n",
       "1                     4          1                  NaN           NaN   \n",
       "2                     4          2                  1.0           0.0   \n",
       "3                     4          1                  0.0           NaN   \n",
       "4                     3          1                  7.0           0.0   \n",
       "\n",
       "   ANZ_PERSONEN  ANZ_TITEL  BALLRAUM  CAMEO_DEUG_2015 CAMEO_DEU_2015  \\\n",
       "0           2.0        0.0       3.0              1.0             1A   \n",
       "1           3.0        0.0       NaN              NaN            NaN   \n",
       "2           1.0        0.0       7.0              5.0             5D   \n",
       "3           0.0        0.0       7.0              4.0             4C   \n",
       "4           4.0        0.0       3.0              7.0             7B   \n",
       "\n",
       "   CJT_GESAMTTYP  ...  SEMIO_REL  SEMIO_SOZ  SEMIO_TRADV  SEMIO_VERT  \\\n",
       "0            5.0  ...          2          6            1           6   \n",
       "1            NaN  ...          2          3            1           7   \n",
       "2            2.0  ...          1          2            1           3   \n",
       "3            2.0  ...          3          6            4           7   \n",
       "4            6.0  ...          4          4            4           5   \n",
       "\n",
       "   SHOPPER_TYP  VERS_TYP  WOHNDAUER_2008  WOHNLAGE  W_KEIT_KIND_HH  ZABEOTYP  \n",
       "0          3.0       1.0             9.0       7.0             6.0         3  \n",
       "1          3.0       1.0             9.0       NaN             NaN         3  \n",
       "2          1.0       2.0             9.0       2.0             6.0         3  \n",
       "3          0.0       1.0             9.0       7.0             NaN         1  \n",
       "4          1.0       2.0             9.0       3.0             2.0         1  \n",
       "\n",
       "[5 rows x 268 columns]"
      ]
     },
     "execution_count": 6,
     "metadata": {},
     "output_type": "execute_result"
    }
   ],
   "source": [
    "cust_features.head()"
   ]
  },
  {
   "cell_type": "code",
   "execution_count": 7,
   "metadata": {},
   "outputs": [],
   "source": [
    "# Create dummy columns from the categorical data.\n",
    "def dummy_variables(df, cat_cols, dummy_na=False):\n",
    "    '''\n",
    "    Function finds all categorical columns, creats dummy variables and deletes the original.\n",
    "    Takes in the dataframe and categorical column names list then outouts a dataframe \n",
    "    with the dummy variables.\n",
    "    '''\n",
    "    for col in cat_cols:\n",
    "        try:\n",
    "            # produce the dataframe with dummy variables.\n",
    "            df = pd.concat([df.drop(col, axis=1), pd.get_dummies(df[col], prefix=col, prefix_sep='_', drop_first=True, dummy_na=dummy_na)], axis=1)\n",
    "            \n",
    "        except:\n",
    "            continue\n",
    "    return df\n",
    "\n",
    "#Ref this is code that I also used in th seatle project which I think is public on GitHub."
   ]
  },
  {
   "cell_type": "code",
   "execution_count": 8,
   "metadata": {},
   "outputs": [],
   "source": [
    "cat_df = cust_features.select_dtypes(include='object')\n",
    "cat_cols = cat_df.columns\n",
    "\n",
    "# Create the dummy variables from the categorical columns in df.\n",
    "cust_data_dum = dummy_variables(cust_features, cat_cols, dummy_na=False)"
   ]
  },
  {
   "cell_type": "code",
   "execution_count": 9,
   "metadata": {},
   "outputs": [],
   "source": [
    "imputer = SimpleImputer(strategy='most_frequent')\n",
    "cust_features_im = pd.DataFrame(imputer.fit_transform(cust_data_dum.values),\n",
    "                                columns = cust_data_dum.columns)"
   ]
  },
  {
   "cell_type": "code",
   "execution_count": 10,
   "metadata": {},
   "outputs": [],
   "source": [
    "# Population data.\n",
    "pop_features = pd.read_csv('./population_features.csv')\n",
    "pop_lrn = pd.read_csv('./population_lrn.csv')"
   ]
  },
  {
   "cell_type": "code",
   "execution_count": 11,
   "metadata": {},
   "outputs": [],
   "source": [
    "# Lest keep the best of the columns.\n",
    "#pop_features = pop_features[best_cols]"
   ]
  },
  {
   "cell_type": "code",
   "execution_count": 12,
   "metadata": {},
   "outputs": [],
   "source": [
    "pop_features.drop(columns = 'Unnamed: 0', inplace = True)"
   ]
  },
  {
   "cell_type": "code",
   "execution_count": 13,
   "metadata": {},
   "outputs": [],
   "source": [
    "pop_cat_df = pop_features.select_dtypes(include='object')\n",
    "pop_cat_cols = pop_cat_df.columns\n",
    "\n",
    "# Once again for the population data lets get those dummies.\n",
    "pop_data_dum = dummy_variables(pop_features, pop_cat_cols, dummy_na=False)"
   ]
  },
  {
   "cell_type": "code",
   "execution_count": 14,
   "metadata": {},
   "outputs": [],
   "source": [
    "pop_features_im = pd.DataFrame(imputer.fit_transform(pop_data_dum.values),\n",
    "                              columns = pop_data_dum.columns)"
   ]
  },
  {
   "cell_type": "code",
   "execution_count": 15,
   "metadata": {},
   "outputs": [],
   "source": [
    "# A look at the data earlier showed that some of the features\n",
    "# have a big range and thus should be scaled.\n",
    "\n",
    "scaler = RobustScaler()T\n",
    "scaled_pop = pd.DataFrame(scaler.fit_transform(pop_features_im),\n",
    "                          columns=pop_features_im.columns)"
   ]
  },
  {
   "cell_type": "code",
   "execution_count": 16,
   "metadata": {},
   "outputs": [],
   "source": [
    "scaled_cust = pd.DataFrame(scaler.fit_transform(cust_features_im),\n",
    "                           columns=cust_features_im.columns)"
   ]
  },
  {
   "cell_type": "code",
   "execution_count": 17,
   "metadata": {},
   "outputs": [],
   "source": [
    "# feature selection:\n",
    "scaled_pop = scaled_pop[best_cols]\n",
    "scaled_cust = scaled_cust[best_cols]"
   ]
  },
  {
   "cell_type": "markdown",
   "metadata": {},
   "source": [
    "### Performing Dimentinality Reduction using PCA.\n",
    "Here we find out the vectors of the maximal variance in this data."
   ]
  },
  {
   "cell_type": "code",
   "execution_count": 18,
   "metadata": {},
   "outputs": [],
   "source": [
    "pca = PCA()\n",
    "pop_pca = pca.fit_transform(scaled_pop)"
   ]
  },
  {
   "cell_type": "code",
   "execution_count": 19,
   "metadata": {},
   "outputs": [],
   "source": [
    "def pca_plot(pca):\n",
    "    '''\n",
    "    Creates a plot associated with the principal components\n",
    "    \n",
    "    INPUT: pca - result of PCA model.\n",
    "            \n",
    "    OUTPUT:\n",
    "            None\n",
    "    '''\n",
    "    components = len(pca.explained_variance_ratio_)\n",
    "    index = np.arange(components)\n",
    "    vals = pca.explained_variance_ratio_\n",
    " \n",
    "    plt.figure(figsize=(20, 10))\n",
    "    ax = plt.subplot(111)\n",
    "    cumvals = np.cumsum(vals)\n",
    "    ax.bar(index, vals)\n",
    "    ax.plot(index, cumvals)\n",
    "    \n",
    "    # Add annottaions that show the percentage of the data described\n",
    "    # by the priciple component.\n",
    "    for i in range(components):\n",
    "        ax.annotate(r\"%s%%\" % ((str(vals[i]*100)[:4])), (index[i]+0.2, vals[i]),\n",
    "                    va=\"bottom\", ha=\"center\", fontsize=12)\n",
    " \n",
    "    ax.xaxis.set_tick_params(width=0)\n",
    "    ax.yaxis.set_tick_params(width=2, length=12)\n",
    " \n",
    "    ax.set_xlabel('Principal Component', fontsize=15)\n",
    "    ax.set_ylabel(\"Percentage Variance Explained (%)\", fontsize=15)\n",
    "    plt.title('Explained Variance Per Principal Component', fontsize=20)\n",
    "    plt.grid()"
   ]
  },
  {
   "cell_type": "code",
   "execution_count": 20,
   "metadata": {},
   "outputs": [
    {
     "data": {
      "image/png": "[encoded data removed]",
      "text/plain": [
       "<Figure size 1440x720 with 1 Axes>"
      ]
     },
     "metadata": {
      "needs_background": "light"
     },
     "output_type": "display_data"
    }
   ],
   "source": [
    "# Investigate the variance accounted for by each principal component.\n",
    "pca_plot(pca)"
   ]
  },
  {
   "cell_type": "markdown",
   "metadata": {},
   "source": [
    "#### It looks like 80 PCA components explains ~95% of the data."
   ]
  },
  {
   "cell_type": "code",
   "execution_count": 21,
   "metadata": {},
   "outputs": [],
   "source": [
    "pca = PCA(n_components=80)\n",
    "pop_pca = pca.fit_transform(scaled_pop)"
   ]
  },
  {
   "cell_type": "code",
   "execution_count": 22,
   "metadata": {},
   "outputs": [],
   "source": [
    "cust_pca = pca.transform(scaled_cust)"
   ]
  },
  {
   "cell_type": "code",
   "execution_count": 23,
   "metadata": {},
   "outputs": [
    {
     "data": {
      "text/plain": [
       "(891221, 151)"
      ]
     },
     "execution_count": 23,
     "metadata": {},
     "output_type": "execute_result"
    }
   ],
   "source": [
    "scaled_pop.shape"
   ]
  },
  {
   "cell_type": "code",
   "execution_count": 24,
   "metadata": {},
   "outputs": [
    {
     "data": {
      "text/plain": [
       "(191652, 151)"
      ]
     },
     "execution_count": 24,
     "metadata": {},
     "output_type": "execute_result"
    }
   ],
   "source": [
    "scaled_cust.shape"
   ]
  },
  {
   "cell_type": "code",
   "execution_count": null,
   "metadata": {},
   "outputs": [],
   "source": [
    "#odd_one_out = []\n",
    "#for x in scaled_pop.columns:\n",
    "#    if x not in scaled_cust.columns:\n",
    "#        odd_one_out.append(x)#\n",
    "\n",
    "#odd_one_out"
   ]
  },
  {
   "cell_type": "markdown",
   "metadata": {},
   "source": [
    "### Clustering the data."
   ]
  },
  {
   "cell_type": "code",
   "execution_count": 25,
   "metadata": {},
   "outputs": [],
   "source": [
    "from sklearn.cluster import KMeans"
   ]
  },
  {
   "cell_type": "code",
   "execution_count": 26,
   "metadata": {},
   "outputs": [],
   "source": [
    "def kmeans_score(df, center):\n",
    "    '''\n",
    "    Returns the kmeans score regarding Sum of squares distance for points to centers\n",
    "    \n",
    "    INPUT:\n",
    "        df - dataframe we are workin with\n",
    "        center - k clusters\n",
    "        \n",
    "    OUTPUT:\n",
    "        score - the Sum or suqares distance score\n",
    "    '''\n",
    "    kmeans = KMeans(n_clusters=center, random_state=42)\n",
    "    \n",
    "    model = kmeans.fit(df)\n",
    "    \n",
    "    # Score related to model fit\n",
    "    sum_of_square = np.abs(model.score(df))\n",
    "    \n",
    "    return sum_of_square"
   ]
  },
  {
   "cell_type": "code",
   "execution_count": 27,
   "metadata": {},
   "outputs": [],
   "source": [
    "# Using the elbow method to find the optimal number of clusters to use.\n",
    "scores = []\n",
    "centroid = np.arange(2, 18, 1)\n",
    "\n",
    "for i in centroid:\n",
    "    scores.append(kmeans_score(pop_pca, i))"
   ]
  },
  {
   "cell_type": "code",
   "execution_count": 28,
   "metadata": {},
   "outputs": [
    {
     "data": {
      "image/png": "[encoded data removed]",
      "text/plain": [
       "<Figure size 720x576 with 1 Axes>"
      ]
     },
     "metadata": {
      "needs_background": "light"
     },
     "output_type": "display_data"
    }
   ],
   "source": [
    "# This shows the change in the cluster distance over the number of clusters\n",
    "# stated in centroid.\n",
    "\n",
    "plt.figure(figsize=(10, 8)) \n",
    "plt.plot(centroid, scores, linestyle='-.', marker='o', color='b');\n",
    "\n",
    "plt.title('Elbow method for optimal k', fontsize=20)\n",
    "plt.xlabel('Number of clusters (k)', fontsize=15)\n",
    "plt.ylabel('Sum of squared distance', fontsize=15)\n",
    "\n",
    "plt.rc('xtick', labelsize=15)  \n",
    "plt.rc('ytick', labelsize=15)\n",
    "plt.grid()"
   ]
  },
  {
   "cell_type": "markdown",
   "metadata": {},
   "source": [
    "Looking at the above the elbow look to be at k=5 indicating the optimal k for the dataset is 5."
   ]
  },
  {
   "cell_type": "code",
   "execution_count": 43,
   "metadata": {},
   "outputs": [],
   "source": [
    "# Fit the KMeans model with 5 clusters.\n",
    "kmeans = KMeans(n_clusters=5, random_state=42)\n",
    "pop_clust = kmeans.fit_predict(pop_pca)"
   ]
  },
  {
   "cell_type": "code",
   "execution_count": 44,
   "metadata": {},
   "outputs": [
    {
     "data": {
      "text/html": [
       "<div>\n",
       "<style scoped>\n",
       "    .dataframe tbody tr th:only-of-type {\n",
       "        vertical-align: middle;\n",
       "    }\n",
       "\n",
       "    .dataframe tbody tr th {\n",
       "        vertical-align: top;\n",
       "    }\n",
       "\n",
       "    .dataframe thead th {\n",
       "        text-align: right;\n",
       "    }\n",
       "</style>\n",
       "<table border=\"1\" class=\"dataframe\">\n",
       "  <thead>\n",
       "    <tr style=\"text-align: right;\">\n",
       "      <th></th>\n",
       "      <th>clusters</th>\n",
       "      <th>percentage of data</th>\n",
       "      <th>dataset</th>\n",
       "    </tr>\n",
       "  </thead>\n",
       "  <tbody>\n",
       "    <tr>\n",
       "      <th>0</th>\n",
       "      <td>1</td>\n",
       "      <td>48.974272</td>\n",
       "      <td>population</td>\n",
       "    </tr>\n",
       "    <tr>\n",
       "      <th>1</th>\n",
       "      <td>4</td>\n",
       "      <td>22.431585</td>\n",
       "      <td>population</td>\n",
       "    </tr>\n",
       "    <tr>\n",
       "      <th>2</th>\n",
       "      <td>0</td>\n",
       "      <td>19.401136</td>\n",
       "      <td>population</td>\n",
       "    </tr>\n",
       "    <tr>\n",
       "      <th>3</th>\n",
       "      <td>3</td>\n",
       "      <td>4.910679</td>\n",
       "      <td>population</td>\n",
       "    </tr>\n",
       "    <tr>\n",
       "      <th>4</th>\n",
       "      <td>2</td>\n",
       "      <td>4.282327</td>\n",
       "      <td>population</td>\n",
       "    </tr>\n",
       "  </tbody>\n",
       "</table>\n",
       "</div>"
      ],
      "text/plain": [
       "   clusters  percentage of data     dataset\n",
       "0         1           48.974272  population\n",
       "1         4           22.431585  population\n",
       "2         0           19.401136  population\n",
       "3         3            4.910679  population\n",
       "4         2            4.282327  population"
      ]
     },
     "execution_count": 44,
     "metadata": {},
     "output_type": "execute_result"
    }
   ],
   "source": [
    "clust_count = pd.Series(pop_clust).value_counts()\n",
    "\n",
    "clust_pop = pd.DataFrame({'clusters': clust_count.index,\n",
    "                         'percentage of data':100*clust_count.values/len(pop_clust)})\n",
    "clust_pop['dataset'] = 'population'\n",
    "\n",
    "clust_pop"
   ]
  },
  {
   "cell_type": "markdown",
   "metadata": {},
   "source": [
    "Clustering the customer data."
   ]
  },
  {
   "cell_type": "code",
   "execution_count": 45,
   "metadata": {},
   "outputs": [],
   "source": [
    "cust_clust = kmeans.predict(cust_pca)"
   ]
  },
  {
   "cell_type": "code",
   "execution_count": 46,
   "metadata": {},
   "outputs": [
    {
     "data": {
      "text/html": [
       "<div>\n",
       "<style scoped>\n",
       "    .dataframe tbody tr th:only-of-type {\n",
       "        vertical-align: middle;\n",
       "    }\n",
       "\n",
       "    .dataframe tbody tr th {\n",
       "        vertical-align: top;\n",
       "    }\n",
       "\n",
       "    .dataframe thead th {\n",
       "        text-align: right;\n",
       "    }\n",
       "</style>\n",
       "<table border=\"1\" class=\"dataframe\">\n",
       "  <thead>\n",
       "    <tr style=\"text-align: right;\">\n",
       "      <th></th>\n",
       "      <th>clusters</th>\n",
       "      <th>percentage of data</th>\n",
       "      <th>dataset</th>\n",
       "    </tr>\n",
       "  </thead>\n",
       "  <tbody>\n",
       "    <tr>\n",
       "      <th>0</th>\n",
       "      <td>1</td>\n",
       "      <td>74.282554</td>\n",
       "      <td>customers</td>\n",
       "    </tr>\n",
       "    <tr>\n",
       "      <th>1</th>\n",
       "      <td>4</td>\n",
       "      <td>18.547680</td>\n",
       "      <td>customers</td>\n",
       "    </tr>\n",
       "    <tr>\n",
       "      <th>2</th>\n",
       "      <td>2</td>\n",
       "      <td>3.478701</td>\n",
       "      <td>customers</td>\n",
       "    </tr>\n",
       "    <tr>\n",
       "      <th>3</th>\n",
       "      <td>3</td>\n",
       "      <td>3.423914</td>\n",
       "      <td>customers</td>\n",
       "    </tr>\n",
       "    <tr>\n",
       "      <th>4</th>\n",
       "      <td>0</td>\n",
       "      <td>0.267151</td>\n",
       "      <td>customers</td>\n",
       "    </tr>\n",
       "  </tbody>\n",
       "</table>\n",
       "</div>"
      ],
      "text/plain": [
       "   clusters  percentage of data    dataset\n",
       "0         1           74.282554  customers\n",
       "1         4           18.547680  customers\n",
       "2         2            3.478701  customers\n",
       "3         3            3.423914  customers\n",
       "4         0            0.267151  customers"
      ]
     },
     "execution_count": 46,
     "metadata": {},
     "output_type": "execute_result"
    }
   ],
   "source": [
    "cust_clust_count = pd.Series(cust_clust).value_counts()\n",
    "\n",
    "clust_cust = pd.DataFrame({'clusters': cust_clust_count.index,\n",
    "                          'percentage of data': 100*cust_clust_count.values/len(cust_clust)})\n",
    "clust_cust['dataset'] = 'customers'\n",
    "clust_cust"
   ]
  },
  {
   "cell_type": "code",
   "execution_count": 47,
   "metadata": {},
   "outputs": [
    {
     "data": {
      "image/png": "[encoded data removed]",
      "text/plain": [
       "<Figure size 1440x864 with 1 Axes>"
      ]
     },
     "metadata": {
      "needs_background": "light"
     },
     "output_type": "display_data"
    }
   ],
   "source": [
    "plt.figure(figsize=(20, 12))\n",
    "sns.barplot(x = 'clusters', y = 'percentage of data', hue='dataset',\n",
    "            data = pd.concat([clust_cust, clust_pop]))\n",
    "\n",
    "plt.title('Comparison of Customer Data to Demographics Data', fontsize=20)\n",
    "plt.xlabel('Cluster', fontsize=15)\n",
    "plt.ylabel('Percentage of data', fontsize=15)\n",
    "\n",
    "plt.legend(fontsize=15)\n",
    "plt.grid()"
   ]
  },
  {
   "cell_type": "markdown",
   "metadata": {},
   "source": [
    "### Conclusion\n",
    "The cluster suggests to me that we should should target cluster 1  more that 70% of the customer demographic and almost 50% of the population so should be a good starting point when reachine out to likely people to become customers. "
   ]
  },
  {
   "cell_type": "code",
   "execution_count": null,
   "metadata": {},
   "outputs": [],
   "source": []
  }
 ],
 "metadata": {
  "kernelspec": {
   "display_name": "Python 3",
   "language": "python",
   "name": "python3"
  },
  "language_info": {
   "codemirror_mode": {
    "name": "ipython",
    "version": 3
   },
   "file_extension": ".py",
   "mimetype": "text/x-python",
   "name": "python",
   "nbconvert_exporter": "python",
   "pygments_lexer": "ipython3",
   "version": "3.7.7"
  }
 },
 "nbformat": 4,
 "nbformat_minor": 4
}
